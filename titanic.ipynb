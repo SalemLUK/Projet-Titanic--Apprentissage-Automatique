{
 "cells": [
  {
   "cell_type": "code",
   "execution_count": 1,
   "id": "5acd45c6",
   "metadata": {
    "_cell_guid": "b1076dfc-b9ad-4769-8c92-a6c4dae69d19",
    "_uuid": "8f2839f25d086af736a60e9eeb907d3b93b6e0e5",
    "execution": {
     "iopub.execute_input": "2024-01-16T15:16:39.256151Z",
     "iopub.status.busy": "2024-01-16T15:16:39.255495Z",
     "iopub.status.idle": "2024-01-16T15:16:40.317060Z",
     "shell.execute_reply": "2024-01-16T15:16:40.315750Z"
    },
    "papermill": {
     "duration": 1.091295,
     "end_time": "2024-01-16T15:16:40.320051",
     "exception": false,
     "start_time": "2024-01-16T15:16:39.228756",
     "status": "completed"
    },
    "tags": []
   },
   "outputs": [
    {
     "name": "stdout",
     "output_type": "stream",
     "text": [
      "/kaggle/input/titanic/train.csv\n",
      "/kaggle/input/titanic/test.csv\n",
      "/kaggle/input/titanic/gender_submission.csv\n"
     ]
    }
   ],
   "source": [
    "# This Python 3 environment comes with many helpful analytics libraries installed\n",
    "# It is defined by the kaggle/python Docker image: https://github.com/kaggle/docker-python\n",
    "# For example, here's several helpful packages to load\n",
    "\n",
    "import numpy as np # linear algebra\n",
    "import pandas as pd # data processing, CSV file I/O (e.g. pd.read_csv)\n",
    "\n",
    "# Input data files are available in the read-only \"../input/\" directory\n",
    "# For example, running this (by clicking run or pressing Shift+Enter) will list all files under the input directory\n",
    "\n",
    "import os\n",
    "for dirname, _, filenames in os.walk('/kaggle/input'):\n",
    "    for filename in filenames:\n",
    "        print(os.path.join(dirname, filename))\n",
    "\n",
    "# You can write up to 20GB to the current directory (/kaggle/working/) that gets preserved as output when you create a version using \"Save & Run All\" \n",
    "# You can also write temporary files to /kaggle/temp/, but they won't be saved outside of the current session"
   ]
  },
  {
   "cell_type": "markdown",
   "id": "23880e20",
   "metadata": {
    "papermill": {
     "duration": 0.024912,
     "end_time": "2024-01-16T15:16:40.373487",
     "exception": false,
     "start_time": "2024-01-16T15:16:40.348575",
     "status": "completed"
    },
    "tags": []
   },
   "source": []
  },
  {
   "cell_type": "markdown",
   "id": "4596779b",
   "metadata": {
    "papermill": {
     "duration": 0.024828,
     "end_time": "2024-01-16T15:16:40.422541",
     "exception": false,
     "start_time": "2024-01-16T15:16:40.397713",
     "status": "completed"
    },
    "tags": []
   },
   "source": [
    "Introduction\n",
    "\n",
    "The sinking of the Titanic remains one of history's most famous maritime tragedies. Through the analysis of passenger data, we embark on an analytical journey to elucidate the factors that influenced survival during this catastrophe. Using advanced predictive modeling techniques, our aim is to develop a model capable of discerning, with optimum accuracy, which passengers survived and which unfortunately did not."
   ]
  },
  {
   "cell_type": "markdown",
   "id": "42028db2",
   "metadata": {
    "papermill": {
     "duration": 0.023767,
     "end_time": "2024-01-16T15:16:40.470980",
     "exception": false,
     "start_time": "2024-01-16T15:16:40.447213",
     "status": "completed"
    },
    "tags": []
   },
   "source": [
    "Here are the steps involved in meeting the challenge of predicting the survival of the Titanic's passengers:\n",
    "\n",
    "Data acquisition:\n",
    "We'll start by downloading the Titanic data sets, including the training set to build the model and the test set to generate the predictions.\n",
    "\n",
    "Data Exploration (EDA):\n",
    "In-depth exploratory analysis will be carried out, examining data characteristics, detecting missing values and exploring relationships between variables. Use visualizations to better grasp the structure of the data.\n",
    "\n",
    "Model selection :\n",
    "Choose a model suitable for binary prediction\n",
    "\n",
    "Prediction generation:\n",
    "Finally, use the chosen model to generate predictions on the test set. Each prediction must be a binary value, either 0 for non-survival or 1 for survival."
   ]
  },
  {
   "cell_type": "markdown",
   "id": "d7da574d",
   "metadata": {
    "papermill": {
     "duration": 0.023974,
     "end_time": "2024-01-16T15:16:40.519292",
     "exception": false,
     "start_time": "2024-01-16T15:16:40.495318",
     "status": "completed"
    },
    "tags": []
   },
   "source": [
    "Data Description:\n",
    "The dataset contains the following variables:\n",
    "\n",
    "survival: Survival (0 = No, 1 = Yes)\n",
    "pclass: Ticket class (1 = 1st, 2 = 2nd, 3 = 3rd)\n",
    "sex: Male or Female\n",
    "age: Age in years\n",
    "sibsp: number of siblings / spouses aboard the Titanic\n",
    "parch: number of parents / children aboard the Titanic\n",
    "ticket: Ticket number\n",
    "fare: Ticket price\n",
    "cabin: Cabin number\n",
    "embarked: Port of Embarkation (C = Cherbourg, Q = Queenstown, S = Southampton)\n",
    "pclass: A proxy for socio-economic status (SES)\n",
    "\n",
    "1st = Upper\n",
    "\n",
    "2nd = Middle\n",
    "3rd = Lower\n",
    "age: Age is fractional if less than 1. If the age is * estimated, it is in the form of xx.5.\n",
    "sibsp: The dataset defines family relations as follows:\n",
    "Sibling = brother, sister, stepbrother, stepsister\n",
    "Spouse = husband, wife (mistresses and fiancés were ignored)\n",
    "parch: The dataset defines family relations as follows:\n",
    "Parent = mother, father\n",
    "Child = daughter, son, stepdaughter, stepson Some children traveled only with a nanny, therefore parch=0 for them."
   ]
  },
  {
   "cell_type": "markdown",
   "id": "8c35d30b",
   "metadata": {
    "papermill": {
     "duration": 0.023889,
     "end_time": "2024-01-16T15:16:40.567963",
     "exception": false,
     "start_time": "2024-01-16T15:16:40.544074",
     "status": "completed"
    },
    "tags": []
   },
   "source": []
  },
  {
   "cell_type": "markdown",
   "id": "040df3fe",
   "metadata": {
    "papermill": {
     "duration": 0.023989,
     "end_time": "2024-01-16T15:16:40.616906",
     "exception": false,
     "start_time": "2024-01-16T15:16:40.592917",
     "status": "completed"
    },
    "tags": []
   },
   "source": [
    "# Load dataset"
   ]
  },
  {
   "cell_type": "code",
   "execution_count": 2,
   "id": "5daa4188",
   "metadata": {
    "execution": {
     "iopub.execute_input": "2024-01-16T15:16:40.668212Z",
     "iopub.status.busy": "2024-01-16T15:16:40.667434Z",
     "iopub.status.idle": "2024-01-16T15:16:40.727869Z",
     "shell.execute_reply": "2024-01-16T15:16:40.726611Z"
    },
    "papermill": {
     "duration": 0.089404,
     "end_time": "2024-01-16T15:16:40.730595",
     "exception": false,
     "start_time": "2024-01-16T15:16:40.641191",
     "status": "completed"
    },
    "tags": []
   },
   "outputs": [
    {
     "data": {
      "text/html": [
       "<div>\n",
       "<style scoped>\n",
       "    .dataframe tbody tr th:only-of-type {\n",
       "        vertical-align: middle;\n",
       "    }\n",
       "\n",
       "    .dataframe tbody tr th {\n",
       "        vertical-align: top;\n",
       "    }\n",
       "\n",
       "    .dataframe thead th {\n",
       "        text-align: right;\n",
       "    }\n",
       "</style>\n",
       "<table border=\"1\" class=\"dataframe\">\n",
       "  <thead>\n",
       "    <tr style=\"text-align: right;\">\n",
       "      <th></th>\n",
       "      <th>PassengerId</th>\n",
       "      <th>Survived</th>\n",
       "      <th>Pclass</th>\n",
       "      <th>Name</th>\n",
       "      <th>Sex</th>\n",
       "      <th>Age</th>\n",
       "      <th>SibSp</th>\n",
       "      <th>Parch</th>\n",
       "      <th>Ticket</th>\n",
       "      <th>Fare</th>\n",
       "      <th>Cabin</th>\n",
       "      <th>Embarked</th>\n",
       "    </tr>\n",
       "  </thead>\n",
       "  <tbody>\n",
       "    <tr>\n",
       "      <th>0</th>\n",
       "      <td>1</td>\n",
       "      <td>0</td>\n",
       "      <td>3</td>\n",
       "      <td>Braund, Mr. Owen Harris</td>\n",
       "      <td>male</td>\n",
       "      <td>22.0</td>\n",
       "      <td>1</td>\n",
       "      <td>0</td>\n",
       "      <td>A/5 21171</td>\n",
       "      <td>7.2500</td>\n",
       "      <td>NaN</td>\n",
       "      <td>S</td>\n",
       "    </tr>\n",
       "    <tr>\n",
       "      <th>1</th>\n",
       "      <td>2</td>\n",
       "      <td>1</td>\n",
       "      <td>1</td>\n",
       "      <td>Cumings, Mrs. John Bradley (Florence Briggs Th...</td>\n",
       "      <td>female</td>\n",
       "      <td>38.0</td>\n",
       "      <td>1</td>\n",
       "      <td>0</td>\n",
       "      <td>PC 17599</td>\n",
       "      <td>71.2833</td>\n",
       "      <td>C85</td>\n",
       "      <td>C</td>\n",
       "    </tr>\n",
       "    <tr>\n",
       "      <th>2</th>\n",
       "      <td>3</td>\n",
       "      <td>1</td>\n",
       "      <td>3</td>\n",
       "      <td>Heikkinen, Miss. Laina</td>\n",
       "      <td>female</td>\n",
       "      <td>26.0</td>\n",
       "      <td>0</td>\n",
       "      <td>0</td>\n",
       "      <td>STON/O2. 3101282</td>\n",
       "      <td>7.9250</td>\n",
       "      <td>NaN</td>\n",
       "      <td>S</td>\n",
       "    </tr>\n",
       "    <tr>\n",
       "      <th>3</th>\n",
       "      <td>4</td>\n",
       "      <td>1</td>\n",
       "      <td>1</td>\n",
       "      <td>Futrelle, Mrs. Jacques Heath (Lily May Peel)</td>\n",
       "      <td>female</td>\n",
       "      <td>35.0</td>\n",
       "      <td>1</td>\n",
       "      <td>0</td>\n",
       "      <td>113803</td>\n",
       "      <td>53.1000</td>\n",
       "      <td>C123</td>\n",
       "      <td>S</td>\n",
       "    </tr>\n",
       "    <tr>\n",
       "      <th>4</th>\n",
       "      <td>5</td>\n",
       "      <td>0</td>\n",
       "      <td>3</td>\n",
       "      <td>Allen, Mr. William Henry</td>\n",
       "      <td>male</td>\n",
       "      <td>35.0</td>\n",
       "      <td>0</td>\n",
       "      <td>0</td>\n",
       "      <td>373450</td>\n",
       "      <td>8.0500</td>\n",
       "      <td>NaN</td>\n",
       "      <td>S</td>\n",
       "    </tr>\n",
       "  </tbody>\n",
       "</table>\n",
       "</div>"
      ],
      "text/plain": [
       "   PassengerId  Survived  Pclass  \\\n",
       "0            1         0       3   \n",
       "1            2         1       1   \n",
       "2            3         1       3   \n",
       "3            4         1       1   \n",
       "4            5         0       3   \n",
       "\n",
       "                                                Name     Sex   Age  SibSp  \\\n",
       "0                            Braund, Mr. Owen Harris    male  22.0      1   \n",
       "1  Cumings, Mrs. John Bradley (Florence Briggs Th...  female  38.0      1   \n",
       "2                             Heikkinen, Miss. Laina  female  26.0      0   \n",
       "3       Futrelle, Mrs. Jacques Heath (Lily May Peel)  female  35.0      1   \n",
       "4                           Allen, Mr. William Henry    male  35.0      0   \n",
       "\n",
       "   Parch            Ticket     Fare Cabin Embarked  \n",
       "0      0         A/5 21171   7.2500   NaN        S  \n",
       "1      0          PC 17599  71.2833   C85        C  \n",
       "2      0  STON/O2. 3101282   7.9250   NaN        S  \n",
       "3      0            113803  53.1000  C123        S  \n",
       "4      0            373450   8.0500   NaN        S  "
      ]
     },
     "execution_count": 2,
     "metadata": {},
     "output_type": "execute_result"
    }
   ],
   "source": [
    "df_train=pd.read_csv(\"/kaggle/input/titanic/train.csv\")\n",
    "df_train.head()"
   ]
  },
  {
   "cell_type": "code",
   "execution_count": 3,
   "id": "7ae2f73c",
   "metadata": {
    "execution": {
     "iopub.execute_input": "2024-01-16T15:16:40.855402Z",
     "iopub.status.busy": "2024-01-16T15:16:40.854941Z",
     "iopub.status.idle": "2024-01-16T15:16:40.880109Z",
     "shell.execute_reply": "2024-01-16T15:16:40.878938Z"
    },
    "papermill": {
     "duration": 0.123922,
     "end_time": "2024-01-16T15:16:40.882790",
     "exception": false,
     "start_time": "2024-01-16T15:16:40.758868",
     "status": "completed"
    },
    "tags": []
   },
   "outputs": [
    {
     "data": {
      "text/html": [
       "<div>\n",
       "<style scoped>\n",
       "    .dataframe tbody tr th:only-of-type {\n",
       "        vertical-align: middle;\n",
       "    }\n",
       "\n",
       "    .dataframe tbody tr th {\n",
       "        vertical-align: top;\n",
       "    }\n",
       "\n",
       "    .dataframe thead th {\n",
       "        text-align: right;\n",
       "    }\n",
       "</style>\n",
       "<table border=\"1\" class=\"dataframe\">\n",
       "  <thead>\n",
       "    <tr style=\"text-align: right;\">\n",
       "      <th></th>\n",
       "      <th>PassengerId</th>\n",
       "      <th>Pclass</th>\n",
       "      <th>Name</th>\n",
       "      <th>Sex</th>\n",
       "      <th>Age</th>\n",
       "      <th>SibSp</th>\n",
       "      <th>Parch</th>\n",
       "      <th>Ticket</th>\n",
       "      <th>Fare</th>\n",
       "      <th>Cabin</th>\n",
       "      <th>Embarked</th>\n",
       "    </tr>\n",
       "  </thead>\n",
       "  <tbody>\n",
       "    <tr>\n",
       "      <th>0</th>\n",
       "      <td>892</td>\n",
       "      <td>3</td>\n",
       "      <td>Kelly, Mr. James</td>\n",
       "      <td>male</td>\n",
       "      <td>34.5</td>\n",
       "      <td>0</td>\n",
       "      <td>0</td>\n",
       "      <td>330911</td>\n",
       "      <td>7.8292</td>\n",
       "      <td>NaN</td>\n",
       "      <td>Q</td>\n",
       "    </tr>\n",
       "    <tr>\n",
       "      <th>1</th>\n",
       "      <td>893</td>\n",
       "      <td>3</td>\n",
       "      <td>Wilkes, Mrs. James (Ellen Needs)</td>\n",
       "      <td>female</td>\n",
       "      <td>47.0</td>\n",
       "      <td>1</td>\n",
       "      <td>0</td>\n",
       "      <td>363272</td>\n",
       "      <td>7.0000</td>\n",
       "      <td>NaN</td>\n",
       "      <td>S</td>\n",
       "    </tr>\n",
       "    <tr>\n",
       "      <th>2</th>\n",
       "      <td>894</td>\n",
       "      <td>2</td>\n",
       "      <td>Myles, Mr. Thomas Francis</td>\n",
       "      <td>male</td>\n",
       "      <td>62.0</td>\n",
       "      <td>0</td>\n",
       "      <td>0</td>\n",
       "      <td>240276</td>\n",
       "      <td>9.6875</td>\n",
       "      <td>NaN</td>\n",
       "      <td>Q</td>\n",
       "    </tr>\n",
       "    <tr>\n",
       "      <th>3</th>\n",
       "      <td>895</td>\n",
       "      <td>3</td>\n",
       "      <td>Wirz, Mr. Albert</td>\n",
       "      <td>male</td>\n",
       "      <td>27.0</td>\n",
       "      <td>0</td>\n",
       "      <td>0</td>\n",
       "      <td>315154</td>\n",
       "      <td>8.6625</td>\n",
       "      <td>NaN</td>\n",
       "      <td>S</td>\n",
       "    </tr>\n",
       "    <tr>\n",
       "      <th>4</th>\n",
       "      <td>896</td>\n",
       "      <td>3</td>\n",
       "      <td>Hirvonen, Mrs. Alexander (Helga E Lindqvist)</td>\n",
       "      <td>female</td>\n",
       "      <td>22.0</td>\n",
       "      <td>1</td>\n",
       "      <td>1</td>\n",
       "      <td>3101298</td>\n",
       "      <td>12.2875</td>\n",
       "      <td>NaN</td>\n",
       "      <td>S</td>\n",
       "    </tr>\n",
       "  </tbody>\n",
       "</table>\n",
       "</div>"
      ],
      "text/plain": [
       "   PassengerId  Pclass                                          Name     Sex  \\\n",
       "0          892       3                              Kelly, Mr. James    male   \n",
       "1          893       3              Wilkes, Mrs. James (Ellen Needs)  female   \n",
       "2          894       2                     Myles, Mr. Thomas Francis    male   \n",
       "3          895       3                              Wirz, Mr. Albert    male   \n",
       "4          896       3  Hirvonen, Mrs. Alexander (Helga E Lindqvist)  female   \n",
       "\n",
       "    Age  SibSp  Parch   Ticket     Fare Cabin Embarked  \n",
       "0  34.5      0      0   330911   7.8292   NaN        Q  \n",
       "1  47.0      1      0   363272   7.0000   NaN        S  \n",
       "2  62.0      0      0   240276   9.6875   NaN        Q  \n",
       "3  27.0      0      0   315154   8.6625   NaN        S  \n",
       "4  22.0      1      1  3101298  12.2875   NaN        S  "
      ]
     },
     "execution_count": 3,
     "metadata": {},
     "output_type": "execute_result"
    }
   ],
   "source": [
    "df_test = pd.read_csv(\"/kaggle/input/titanic/test.csv\")\n",
    "df_test.head()"
   ]
  },
  {
   "cell_type": "code",
   "execution_count": 4,
   "id": "ad6d0e31",
   "metadata": {
    "execution": {
     "iopub.execute_input": "2024-01-16T15:16:40.935492Z",
     "iopub.status.busy": "2024-01-16T15:16:40.935086Z",
     "iopub.status.idle": "2024-01-16T15:16:40.946163Z",
     "shell.execute_reply": "2024-01-16T15:16:40.945189Z"
    },
    "papermill": {
     "duration": 0.040579,
     "end_time": "2024-01-16T15:16:40.948878",
     "exception": false,
     "start_time": "2024-01-16T15:16:40.908299",
     "status": "completed"
    },
    "tags": []
   },
   "outputs": [],
   "source": [
    "df_gender=pd.read_csv(\"/kaggle/input/titanic/gender_submission.csv\")"
   ]
  },
  {
   "cell_type": "markdown",
   "id": "594b36f6",
   "metadata": {
    "papermill": {
     "duration": 0.024839,
     "end_time": "2024-01-16T15:16:41.000254",
     "exception": false,
     "start_time": "2024-01-16T15:16:40.975415",
     "status": "completed"
    },
    "tags": []
   },
   "source": [
    "# EXPLORATORY DATA ANALYSIS"
   ]
  },
  {
   "cell_type": "code",
   "execution_count": 5,
   "id": "a8987a22",
   "metadata": {
    "execution": {
     "iopub.execute_input": "2024-01-16T15:16:41.053521Z",
     "iopub.status.busy": "2024-01-16T15:16:41.053129Z",
     "iopub.status.idle": "2024-01-16T15:16:41.093421Z",
     "shell.execute_reply": "2024-01-16T15:16:41.091921Z"
    },
    "papermill": {
     "duration": 0.069806,
     "end_time": "2024-01-16T15:16:41.096120",
     "exception": false,
     "start_time": "2024-01-16T15:16:41.026314",
     "status": "completed"
    },
    "tags": []
   },
   "outputs": [
    {
     "data": {
      "text/html": [
       "<div>\n",
       "<style scoped>\n",
       "    .dataframe tbody tr th:only-of-type {\n",
       "        vertical-align: middle;\n",
       "    }\n",
       "\n",
       "    .dataframe tbody tr th {\n",
       "        vertical-align: top;\n",
       "    }\n",
       "\n",
       "    .dataframe thead th {\n",
       "        text-align: right;\n",
       "    }\n",
       "</style>\n",
       "<table border=\"1\" class=\"dataframe\">\n",
       "  <thead>\n",
       "    <tr style=\"text-align: right;\">\n",
       "      <th></th>\n",
       "      <th>PassengerId</th>\n",
       "      <th>Survived</th>\n",
       "      <th>Pclass</th>\n",
       "      <th>Age</th>\n",
       "      <th>SibSp</th>\n",
       "      <th>Parch</th>\n",
       "      <th>Fare</th>\n",
       "    </tr>\n",
       "  </thead>\n",
       "  <tbody>\n",
       "    <tr>\n",
       "      <th>count</th>\n",
       "      <td>891.000000</td>\n",
       "      <td>891.000000</td>\n",
       "      <td>891.000000</td>\n",
       "      <td>714.000000</td>\n",
       "      <td>891.000000</td>\n",
       "      <td>891.000000</td>\n",
       "      <td>891.000000</td>\n",
       "    </tr>\n",
       "    <tr>\n",
       "      <th>mean</th>\n",
       "      <td>446.000000</td>\n",
       "      <td>0.383838</td>\n",
       "      <td>2.308642</td>\n",
       "      <td>29.699118</td>\n",
       "      <td>0.523008</td>\n",
       "      <td>0.381594</td>\n",
       "      <td>32.204208</td>\n",
       "    </tr>\n",
       "    <tr>\n",
       "      <th>std</th>\n",
       "      <td>257.353842</td>\n",
       "      <td>0.486592</td>\n",
       "      <td>0.836071</td>\n",
       "      <td>14.526497</td>\n",
       "      <td>1.102743</td>\n",
       "      <td>0.806057</td>\n",
       "      <td>49.693429</td>\n",
       "    </tr>\n",
       "    <tr>\n",
       "      <th>min</th>\n",
       "      <td>1.000000</td>\n",
       "      <td>0.000000</td>\n",
       "      <td>1.000000</td>\n",
       "      <td>0.420000</td>\n",
       "      <td>0.000000</td>\n",
       "      <td>0.000000</td>\n",
       "      <td>0.000000</td>\n",
       "    </tr>\n",
       "    <tr>\n",
       "      <th>25%</th>\n",
       "      <td>223.500000</td>\n",
       "      <td>0.000000</td>\n",
       "      <td>2.000000</td>\n",
       "      <td>20.125000</td>\n",
       "      <td>0.000000</td>\n",
       "      <td>0.000000</td>\n",
       "      <td>7.910400</td>\n",
       "    </tr>\n",
       "    <tr>\n",
       "      <th>50%</th>\n",
       "      <td>446.000000</td>\n",
       "      <td>0.000000</td>\n",
       "      <td>3.000000</td>\n",
       "      <td>28.000000</td>\n",
       "      <td>0.000000</td>\n",
       "      <td>0.000000</td>\n",
       "      <td>14.454200</td>\n",
       "    </tr>\n",
       "    <tr>\n",
       "      <th>75%</th>\n",
       "      <td>668.500000</td>\n",
       "      <td>1.000000</td>\n",
       "      <td>3.000000</td>\n",
       "      <td>38.000000</td>\n",
       "      <td>1.000000</td>\n",
       "      <td>0.000000</td>\n",
       "      <td>31.000000</td>\n",
       "    </tr>\n",
       "    <tr>\n",
       "      <th>max</th>\n",
       "      <td>891.000000</td>\n",
       "      <td>1.000000</td>\n",
       "      <td>3.000000</td>\n",
       "      <td>80.000000</td>\n",
       "      <td>8.000000</td>\n",
       "      <td>6.000000</td>\n",
       "      <td>512.329200</td>\n",
       "    </tr>\n",
       "  </tbody>\n",
       "</table>\n",
       "</div>"
      ],
      "text/plain": [
       "       PassengerId    Survived      Pclass         Age       SibSp  \\\n",
       "count   891.000000  891.000000  891.000000  714.000000  891.000000   \n",
       "mean    446.000000    0.383838    2.308642   29.699118    0.523008   \n",
       "std     257.353842    0.486592    0.836071   14.526497    1.102743   \n",
       "min       1.000000    0.000000    1.000000    0.420000    0.000000   \n",
       "25%     223.500000    0.000000    2.000000   20.125000    0.000000   \n",
       "50%     446.000000    0.000000    3.000000   28.000000    0.000000   \n",
       "75%     668.500000    1.000000    3.000000   38.000000    1.000000   \n",
       "max     891.000000    1.000000    3.000000   80.000000    8.000000   \n",
       "\n",
       "            Parch        Fare  \n",
       "count  891.000000  891.000000  \n",
       "mean     0.381594   32.204208  \n",
       "std      0.806057   49.693429  \n",
       "min      0.000000    0.000000  \n",
       "25%      0.000000    7.910400  \n",
       "50%      0.000000   14.454200  \n",
       "75%      0.000000   31.000000  \n",
       "max      6.000000  512.329200  "
      ]
     },
     "execution_count": 5,
     "metadata": {},
     "output_type": "execute_result"
    }
   ],
   "source": [
    "df_train.describe()"
   ]
  },
  {
   "cell_type": "code",
   "execution_count": 6,
   "id": "0027442c",
   "metadata": {
    "execution": {
     "iopub.execute_input": "2024-01-16T15:16:41.149853Z",
     "iopub.status.busy": "2024-01-16T15:16:41.149104Z",
     "iopub.status.idle": "2024-01-16T15:16:41.178097Z",
     "shell.execute_reply": "2024-01-16T15:16:41.176235Z"
    },
    "papermill": {
     "duration": 0.058834,
     "end_time": "2024-01-16T15:16:41.180972",
     "exception": false,
     "start_time": "2024-01-16T15:16:41.122138",
     "status": "completed"
    },
    "tags": []
   },
   "outputs": [
    {
     "name": "stdout",
     "output_type": "stream",
     "text": [
      "<class 'pandas.core.frame.DataFrame'>\n",
      "RangeIndex: 891 entries, 0 to 890\n",
      "Data columns (total 12 columns):\n",
      " #   Column       Non-Null Count  Dtype  \n",
      "---  ------       --------------  -----  \n",
      " 0   PassengerId  891 non-null    int64  \n",
      " 1   Survived     891 non-null    int64  \n",
      " 2   Pclass       891 non-null    int64  \n",
      " 3   Name         891 non-null    object \n",
      " 4   Sex          891 non-null    object \n",
      " 5   Age          714 non-null    float64\n",
      " 6   SibSp        891 non-null    int64  \n",
      " 7   Parch        891 non-null    int64  \n",
      " 8   Ticket       891 non-null    object \n",
      " 9   Fare         891 non-null    float64\n",
      " 10  Cabin        204 non-null    object \n",
      " 11  Embarked     889 non-null    object \n",
      "dtypes: float64(2), int64(5), object(5)\n",
      "memory usage: 83.7+ KB\n"
     ]
    }
   ],
   "source": [
    "df_train.info()\n",
    "\n"
   ]
  },
  {
   "cell_type": "code",
   "execution_count": null,
   "id": "17321050",
   "metadata": {
    "papermill": {
     "duration": 0.025323,
     "end_time": "2024-01-16T15:16:41.232938",
     "exception": false,
     "start_time": "2024-01-16T15:16:41.207615",
     "status": "completed"
    },
    "tags": []
   },
   "outputs": [],
   "source": []
  },
  {
   "cell_type": "markdown",
   "id": "d0b95401",
   "metadata": {
    "papermill": {
     "duration": 0.025335,
     "end_time": "2024-01-16T15:16:41.284816",
     "exception": false,
     "start_time": "2024-01-16T15:16:41.259481",
     "status": "completed"
    },
    "tags": []
   },
   "source": [
    "**there are 891 passengers on board our boat**"
   ]
  },
  {
   "cell_type": "markdown",
   "id": "b18690fa",
   "metadata": {
    "papermill": {
     "duration": 0.025993,
     "end_time": "2024-01-16T15:16:41.336762",
     "exception": false,
     "start_time": "2024-01-16T15:16:41.310769",
     "status": "completed"
    },
    "tags": []
   },
   "source": []
  },
  {
   "cell_type": "code",
   "execution_count": 7,
   "id": "1e089b03",
   "metadata": {
    "execution": {
     "iopub.execute_input": "2024-01-16T15:16:41.393154Z",
     "iopub.status.busy": "2024-01-16T15:16:41.392107Z",
     "iopub.status.idle": "2024-01-16T15:16:41.402774Z",
     "shell.execute_reply": "2024-01-16T15:16:41.401800Z"
    },
    "papermill": {
     "duration": 0.041767,
     "end_time": "2024-01-16T15:16:41.405374",
     "exception": false,
     "start_time": "2024-01-16T15:16:41.363607",
     "status": "completed"
    },
    "tags": []
   },
   "outputs": [],
   "source": [
    "df_train = df_train.drop([\"Name\",\"Ticket\",\"Cabin\"] , axis=\"columns\")"
   ]
  },
  {
   "cell_type": "code",
   "execution_count": 8,
   "id": "406a3fa0",
   "metadata": {
    "execution": {
     "iopub.execute_input": "2024-01-16T15:16:41.460875Z",
     "iopub.status.busy": "2024-01-16T15:16:41.460268Z",
     "iopub.status.idle": "2024-01-16T15:16:41.466421Z",
     "shell.execute_reply": "2024-01-16T15:16:41.465075Z"
    },
    "papermill": {
     "duration": 0.037199,
     "end_time": "2024-01-16T15:16:41.469134",
     "exception": false,
     "start_time": "2024-01-16T15:16:41.431935",
     "status": "completed"
    },
    "tags": []
   },
   "outputs": [],
   "source": [
    "df_test = df_test.drop([\"Name\",\"Ticket\",\"Cabin\"] , axis=\"columns\")"
   ]
  },
  {
   "cell_type": "code",
   "execution_count": 9,
   "id": "ca6ead84",
   "metadata": {
    "execution": {
     "iopub.execute_input": "2024-01-16T15:16:41.523802Z",
     "iopub.status.busy": "2024-01-16T15:16:41.523370Z",
     "iopub.status.idle": "2024-01-16T15:16:41.533528Z",
     "shell.execute_reply": "2024-01-16T15:16:41.532107Z"
    },
    "papermill": {
     "duration": 0.040919,
     "end_time": "2024-01-16T15:16:41.536480",
     "exception": false,
     "start_time": "2024-01-16T15:16:41.495561",
     "status": "completed"
    },
    "tags": []
   },
   "outputs": [
    {
     "data": {
      "text/plain": [
       "PassengerId      0\n",
       "Survived         0\n",
       "Pclass           0\n",
       "Sex              0\n",
       "Age            177\n",
       "SibSp            0\n",
       "Parch            0\n",
       "Fare             0\n",
       "Embarked         2\n",
       "dtype: int64"
      ]
     },
     "execution_count": 9,
     "metadata": {},
     "output_type": "execute_result"
    }
   ],
   "source": [
    "df_train.isnull().sum()"
   ]
  },
  {
   "cell_type": "markdown",
   "id": "8d70b6a3",
   "metadata": {
    "papermill": {
     "duration": 0.025798,
     "end_time": "2024-01-16T15:16:41.589364",
     "exception": false,
     "start_time": "2024-01-16T15:16:41.563566",
     "status": "completed"
    },
    "tags": []
   },
   "source": []
  },
  {
   "cell_type": "code",
   "execution_count": 10,
   "id": "7afcb28b",
   "metadata": {
    "execution": {
     "iopub.execute_input": "2024-01-16T15:16:41.644714Z",
     "iopub.status.busy": "2024-01-16T15:16:41.644328Z",
     "iopub.status.idle": "2024-01-16T15:16:41.657374Z",
     "shell.execute_reply": "2024-01-16T15:16:41.656270Z"
    },
    "papermill": {
     "duration": 0.043957,
     "end_time": "2024-01-16T15:16:41.659887",
     "exception": false,
     "start_time": "2024-01-16T15:16:41.615930",
     "status": "completed"
    },
    "tags": []
   },
   "outputs": [
    {
     "data": {
      "text/plain": [
       "PassengerId    891\n",
       "Survived         2\n",
       "Pclass           3\n",
       "Sex              2\n",
       "Age             88\n",
       "SibSp            7\n",
       "Parch            7\n",
       "Fare           248\n",
       "Embarked         3\n",
       "dtype: int64"
      ]
     },
     "execution_count": 10,
     "metadata": {},
     "output_type": "execute_result"
    }
   ],
   "source": [
    "df_train.nunique()"
   ]
  },
  {
   "cell_type": "code",
   "execution_count": 11,
   "id": "5e8c19b5",
   "metadata": {
    "execution": {
     "iopub.execute_input": "2024-01-16T15:16:41.717742Z",
     "iopub.status.busy": "2024-01-16T15:16:41.716946Z",
     "iopub.status.idle": "2024-01-16T15:16:41.725396Z",
     "shell.execute_reply": "2024-01-16T15:16:41.724377Z"
    },
    "papermill": {
     "duration": 0.039584,
     "end_time": "2024-01-16T15:16:41.727889",
     "exception": false,
     "start_time": "2024-01-16T15:16:41.688305",
     "status": "completed"
    },
    "tags": []
   },
   "outputs": [
    {
     "data": {
      "text/plain": [
       "PassengerId     0\n",
       "Pclass          0\n",
       "Sex             0\n",
       "Age            86\n",
       "SibSp           0\n",
       "Parch           0\n",
       "Fare            1\n",
       "Embarked        0\n",
       "dtype: int64"
      ]
     },
     "execution_count": 11,
     "metadata": {},
     "output_type": "execute_result"
    }
   ],
   "source": [
    "df_test.isnull().sum()"
   ]
  },
  {
   "cell_type": "markdown",
   "id": "606e8a83",
   "metadata": {
    "papermill": {
     "duration": 0.027056,
     "end_time": "2024-01-16T15:16:41.781670",
     "exception": false,
     "start_time": "2024-01-16T15:16:41.754614",
     "status": "completed"
    },
    "tags": []
   },
   "source": [
    "**NON-NUMERIC COLUMN CONVERSION**"
   ]
  },
  {
   "cell_type": "code",
   "execution_count": 12,
   "id": "3bad0633",
   "metadata": {
    "execution": {
     "iopub.execute_input": "2024-01-16T15:16:41.838202Z",
     "iopub.status.busy": "2024-01-16T15:16:41.837319Z",
     "iopub.status.idle": "2024-01-16T15:16:43.389423Z",
     "shell.execute_reply": "2024-01-16T15:16:43.388249Z"
    },
    "papermill": {
     "duration": 1.583253,
     "end_time": "2024-01-16T15:16:43.392394",
     "exception": false,
     "start_time": "2024-01-16T15:16:41.809141",
     "status": "completed"
    },
    "tags": []
   },
   "outputs": [],
   "source": [
    "from sklearn.preprocessing import  LabelEncoder\n",
    "from sklearn.preprocessing import  MinMaxScaler"
   ]
  },
  {
   "cell_type": "code",
   "execution_count": 13,
   "id": "d4e9830f",
   "metadata": {
    "execution": {
     "iopub.execute_input": "2024-01-16T15:16:43.447982Z",
     "iopub.status.busy": "2024-01-16T15:16:43.447069Z",
     "iopub.status.idle": "2024-01-16T15:16:43.461531Z",
     "shell.execute_reply": "2024-01-16T15:16:43.459893Z"
    },
    "papermill": {
     "duration": 0.046994,
     "end_time": "2024-01-16T15:16:43.465569",
     "exception": false,
     "start_time": "2024-01-16T15:16:43.418575",
     "status": "completed"
    },
    "tags": []
   },
   "outputs": [],
   "source": [
    "#Encoding Categorical Values\n",
    "encoder = LabelEncoder()\n",
    "df_train[\"Sex\"] = encoder.fit_transform(df_train[\"Sex\"])\n",
    "df_train[\"Embarked\"] = encoder.fit_transform(df_train[\"Embarked\"])\n",
    "df_test[\"Sex\"] = encoder.fit_transform(df_test[\"Sex\"])\n",
    "df_test[\"Embarked\"] = encoder.fit_transform(df_test[\"Embarked\"])"
   ]
  },
  {
   "cell_type": "markdown",
   "id": "e444fb3f",
   "metadata": {
    "papermill": {
     "duration": 0.028324,
     "end_time": "2024-01-16T15:16:43.523534",
     "exception": false,
     "start_time": "2024-01-16T15:16:43.495210",
     "status": "completed"
    },
    "tags": []
   },
   "source": [
    "*This code is used to encode categorical values in a pandas DataFrame using the LabelEncoder class from the sklearn.preprocessing library in Python.\n",
    "This code transforms the categorical values in the \"Sex\" and \"Embarked\" columns of the df DataFrame into integers.*"
   ]
  },
  {
   "cell_type": "code",
   "execution_count": 14,
   "id": "2c9da28a",
   "metadata": {
    "execution": {
     "iopub.execute_input": "2024-01-16T15:16:43.582099Z",
     "iopub.status.busy": "2024-01-16T15:16:43.581402Z",
     "iopub.status.idle": "2024-01-16T15:16:43.596522Z",
     "shell.execute_reply": "2024-01-16T15:16:43.594945Z"
    },
    "papermill": {
     "duration": 0.046611,
     "end_time": "2024-01-16T15:16:43.599168",
     "exception": false,
     "start_time": "2024-01-16T15:16:43.552557",
     "status": "completed"
    },
    "tags": []
   },
   "outputs": [
    {
     "data": {
      "text/html": [
       "<div>\n",
       "<style scoped>\n",
       "    .dataframe tbody tr th:only-of-type {\n",
       "        vertical-align: middle;\n",
       "    }\n",
       "\n",
       "    .dataframe tbody tr th {\n",
       "        vertical-align: top;\n",
       "    }\n",
       "\n",
       "    .dataframe thead th {\n",
       "        text-align: right;\n",
       "    }\n",
       "</style>\n",
       "<table border=\"1\" class=\"dataframe\">\n",
       "  <thead>\n",
       "    <tr style=\"text-align: right;\">\n",
       "      <th></th>\n",
       "      <th>PassengerId</th>\n",
       "      <th>Pclass</th>\n",
       "      <th>Sex</th>\n",
       "      <th>Age</th>\n",
       "      <th>SibSp</th>\n",
       "      <th>Parch</th>\n",
       "      <th>Fare</th>\n",
       "      <th>Embarked</th>\n",
       "    </tr>\n",
       "  </thead>\n",
       "  <tbody>\n",
       "    <tr>\n",
       "      <th>0</th>\n",
       "      <td>892</td>\n",
       "      <td>3</td>\n",
       "      <td>1</td>\n",
       "      <td>34.5</td>\n",
       "      <td>0</td>\n",
       "      <td>0</td>\n",
       "      <td>7.8292</td>\n",
       "      <td>1</td>\n",
       "    </tr>\n",
       "    <tr>\n",
       "      <th>1</th>\n",
       "      <td>893</td>\n",
       "      <td>3</td>\n",
       "      <td>0</td>\n",
       "      <td>47.0</td>\n",
       "      <td>1</td>\n",
       "      <td>0</td>\n",
       "      <td>7.0000</td>\n",
       "      <td>2</td>\n",
       "    </tr>\n",
       "    <tr>\n",
       "      <th>2</th>\n",
       "      <td>894</td>\n",
       "      <td>2</td>\n",
       "      <td>1</td>\n",
       "      <td>62.0</td>\n",
       "      <td>0</td>\n",
       "      <td>0</td>\n",
       "      <td>9.6875</td>\n",
       "      <td>1</td>\n",
       "    </tr>\n",
       "    <tr>\n",
       "      <th>3</th>\n",
       "      <td>895</td>\n",
       "      <td>3</td>\n",
       "      <td>1</td>\n",
       "      <td>27.0</td>\n",
       "      <td>0</td>\n",
       "      <td>0</td>\n",
       "      <td>8.6625</td>\n",
       "      <td>2</td>\n",
       "    </tr>\n",
       "    <tr>\n",
       "      <th>4</th>\n",
       "      <td>896</td>\n",
       "      <td>3</td>\n",
       "      <td>0</td>\n",
       "      <td>22.0</td>\n",
       "      <td>1</td>\n",
       "      <td>1</td>\n",
       "      <td>12.2875</td>\n",
       "      <td>2</td>\n",
       "    </tr>\n",
       "  </tbody>\n",
       "</table>\n",
       "</div>"
      ],
      "text/plain": [
       "   PassengerId  Pclass  Sex   Age  SibSp  Parch     Fare  Embarked\n",
       "0          892       3    1  34.5      0      0   7.8292         1\n",
       "1          893       3    0  47.0      1      0   7.0000         2\n",
       "2          894       2    1  62.0      0      0   9.6875         1\n",
       "3          895       3    1  27.0      0      0   8.6625         2\n",
       "4          896       3    0  22.0      1      1  12.2875         2"
      ]
     },
     "execution_count": 14,
     "metadata": {},
     "output_type": "execute_result"
    }
   ],
   "source": [
    "df_test.head()\n",
    "\n"
   ]
  },
  {
   "cell_type": "markdown",
   "id": "a66ed474",
   "metadata": {
    "papermill": {
     "duration": 0.026308,
     "end_time": "2024-01-16T15:16:43.653564",
     "exception": false,
     "start_time": "2024-01-16T15:16:43.627256",
     "status": "completed"
    },
    "tags": []
   },
   "source": []
  },
  {
   "cell_type": "code",
   "execution_count": 15,
   "id": "ea02cc0e",
   "metadata": {
    "execution": {
     "iopub.execute_input": "2024-01-16T15:16:43.711152Z",
     "iopub.status.busy": "2024-01-16T15:16:43.710079Z",
     "iopub.status.idle": "2024-01-16T15:16:43.725383Z",
     "shell.execute_reply": "2024-01-16T15:16:43.724394Z"
    },
    "papermill": {
     "duration": 0.046828,
     "end_time": "2024-01-16T15:16:43.727789",
     "exception": false,
     "start_time": "2024-01-16T15:16:43.680961",
     "status": "completed"
    },
    "tags": []
   },
   "outputs": [
    {
     "data": {
      "text/html": [
       "<div>\n",
       "<style scoped>\n",
       "    .dataframe tbody tr th:only-of-type {\n",
       "        vertical-align: middle;\n",
       "    }\n",
       "\n",
       "    .dataframe tbody tr th {\n",
       "        vertical-align: top;\n",
       "    }\n",
       "\n",
       "    .dataframe thead th {\n",
       "        text-align: right;\n",
       "    }\n",
       "</style>\n",
       "<table border=\"1\" class=\"dataframe\">\n",
       "  <thead>\n",
       "    <tr style=\"text-align: right;\">\n",
       "      <th></th>\n",
       "      <th>PassengerId</th>\n",
       "      <th>Survived</th>\n",
       "      <th>Pclass</th>\n",
       "      <th>Sex</th>\n",
       "      <th>Age</th>\n",
       "      <th>SibSp</th>\n",
       "      <th>Parch</th>\n",
       "      <th>Fare</th>\n",
       "      <th>Embarked</th>\n",
       "    </tr>\n",
       "  </thead>\n",
       "  <tbody>\n",
       "    <tr>\n",
       "      <th>0</th>\n",
       "      <td>1</td>\n",
       "      <td>0</td>\n",
       "      <td>3</td>\n",
       "      <td>1</td>\n",
       "      <td>22.0</td>\n",
       "      <td>1</td>\n",
       "      <td>0</td>\n",
       "      <td>7.2500</td>\n",
       "      <td>2</td>\n",
       "    </tr>\n",
       "    <tr>\n",
       "      <th>1</th>\n",
       "      <td>2</td>\n",
       "      <td>1</td>\n",
       "      <td>1</td>\n",
       "      <td>0</td>\n",
       "      <td>38.0</td>\n",
       "      <td>1</td>\n",
       "      <td>0</td>\n",
       "      <td>71.2833</td>\n",
       "      <td>0</td>\n",
       "    </tr>\n",
       "    <tr>\n",
       "      <th>2</th>\n",
       "      <td>3</td>\n",
       "      <td>1</td>\n",
       "      <td>3</td>\n",
       "      <td>0</td>\n",
       "      <td>26.0</td>\n",
       "      <td>0</td>\n",
       "      <td>0</td>\n",
       "      <td>7.9250</td>\n",
       "      <td>2</td>\n",
       "    </tr>\n",
       "    <tr>\n",
       "      <th>3</th>\n",
       "      <td>4</td>\n",
       "      <td>1</td>\n",
       "      <td>1</td>\n",
       "      <td>0</td>\n",
       "      <td>35.0</td>\n",
       "      <td>1</td>\n",
       "      <td>0</td>\n",
       "      <td>53.1000</td>\n",
       "      <td>2</td>\n",
       "    </tr>\n",
       "    <tr>\n",
       "      <th>4</th>\n",
       "      <td>5</td>\n",
       "      <td>0</td>\n",
       "      <td>3</td>\n",
       "      <td>1</td>\n",
       "      <td>35.0</td>\n",
       "      <td>0</td>\n",
       "      <td>0</td>\n",
       "      <td>8.0500</td>\n",
       "      <td>2</td>\n",
       "    </tr>\n",
       "  </tbody>\n",
       "</table>\n",
       "</div>"
      ],
      "text/plain": [
       "   PassengerId  Survived  Pclass  Sex   Age  SibSp  Parch     Fare  Embarked\n",
       "0            1         0       3    1  22.0      1      0   7.2500         2\n",
       "1            2         1       1    0  38.0      1      0  71.2833         0\n",
       "2            3         1       3    0  26.0      0      0   7.9250         2\n",
       "3            4         1       1    0  35.0      1      0  53.1000         2\n",
       "4            5         0       3    1  35.0      0      0   8.0500         2"
      ]
     },
     "execution_count": 15,
     "metadata": {},
     "output_type": "execute_result"
    }
   ],
   "source": [
    "df_train.head()\n",
    "\n"
   ]
  },
  {
   "cell_type": "markdown",
   "id": "a49b7d64",
   "metadata": {
    "papermill": {
     "duration": 0.029078,
     "end_time": "2024-01-16T15:16:43.784494",
     "exception": false,
     "start_time": "2024-01-16T15:16:43.755416",
     "status": "completed"
    },
    "tags": []
   },
   "source": [
    "**EMPUTATION OF NULL VALUES FROM OUR DATABASE **"
   ]
  },
  {
   "cell_type": "code",
   "execution_count": 16,
   "id": "8be89454",
   "metadata": {
    "execution": {
     "iopub.execute_input": "2024-01-16T15:16:43.841809Z",
     "iopub.status.busy": "2024-01-16T15:16:43.840666Z",
     "iopub.status.idle": "2024-01-16T15:16:43.845616Z",
     "shell.execute_reply": "2024-01-16T15:16:43.844793Z"
    },
    "papermill": {
     "duration": 0.037898,
     "end_time": "2024-01-16T15:16:43.849756",
     "exception": false,
     "start_time": "2024-01-16T15:16:43.811858",
     "status": "completed"
    },
    "tags": []
   },
   "outputs": [],
   "source": [
    "columns = df_train.columns"
   ]
  },
  {
   "cell_type": "code",
   "execution_count": 17,
   "id": "547fd11e",
   "metadata": {
    "execution": {
     "iopub.execute_input": "2024-01-16T15:16:43.909947Z",
     "iopub.status.busy": "2024-01-16T15:16:43.909250Z",
     "iopub.status.idle": "2024-01-16T15:16:44.331384Z",
     "shell.execute_reply": "2024-01-16T15:16:44.330265Z"
    },
    "papermill": {
     "duration": 0.45472,
     "end_time": "2024-01-16T15:16:44.334356",
     "exception": false,
     "start_time": "2024-01-16T15:16:43.879636",
     "status": "completed"
    },
    "tags": []
   },
   "outputs": [],
   "source": [
    "from sklearn.impute import KNNImputer"
   ]
  },
  {
   "cell_type": "code",
   "execution_count": 18,
   "id": "5cdd273d",
   "metadata": {
    "execution": {
     "iopub.execute_input": "2024-01-16T15:16:44.391639Z",
     "iopub.status.busy": "2024-01-16T15:16:44.391219Z",
     "iopub.status.idle": "2024-01-16T15:16:44.439053Z",
     "shell.execute_reply": "2024-01-16T15:16:44.437143Z"
    },
    "papermill": {
     "duration": 0.081605,
     "end_time": "2024-01-16T15:16:44.444062",
     "exception": false,
     "start_time": "2024-01-16T15:16:44.362457",
     "status": "completed"
    },
    "tags": []
   },
   "outputs": [],
   "source": [
    "imputer = KNNImputer(n_neighbors=2)\n",
    "df_train = imputer.fit_transform(df_train)"
   ]
  },
  {
   "cell_type": "code",
   "execution_count": 19,
   "id": "26632a2a",
   "metadata": {
    "execution": {
     "iopub.execute_input": "2024-01-16T15:16:44.553547Z",
     "iopub.status.busy": "2024-01-16T15:16:44.553090Z",
     "iopub.status.idle": "2024-01-16T15:16:44.559134Z",
     "shell.execute_reply": "2024-01-16T15:16:44.557729Z"
    },
    "papermill": {
     "duration": 0.059383,
     "end_time": "2024-01-16T15:16:44.562135",
     "exception": false,
     "start_time": "2024-01-16T15:16:44.502752",
     "status": "completed"
    },
    "tags": []
   },
   "outputs": [],
   "source": [
    "df_train = pd.DataFrame(df_train, columns = columns)"
   ]
  },
  {
   "cell_type": "code",
   "execution_count": 20,
   "id": "ab43154b",
   "metadata": {
    "execution": {
     "iopub.execute_input": "2024-01-16T15:16:44.622608Z",
     "iopub.status.busy": "2024-01-16T15:16:44.622172Z",
     "iopub.status.idle": "2024-01-16T15:16:44.631259Z",
     "shell.execute_reply": "2024-01-16T15:16:44.629935Z"
    },
    "papermill": {
     "duration": 0.040651,
     "end_time": "2024-01-16T15:16:44.633809",
     "exception": false,
     "start_time": "2024-01-16T15:16:44.593158",
     "status": "completed"
    },
    "tags": []
   },
   "outputs": [
    {
     "data": {
      "text/plain": [
       "PassengerId    0\n",
       "Survived       0\n",
       "Pclass         0\n",
       "Sex            0\n",
       "Age            0\n",
       "SibSp          0\n",
       "Parch          0\n",
       "Fare           0\n",
       "Embarked       0\n",
       "dtype: int64"
      ]
     },
     "execution_count": 20,
     "metadata": {},
     "output_type": "execute_result"
    }
   ],
   "source": [
    "df_train.isnull().sum()"
   ]
  },
  {
   "cell_type": "code",
   "execution_count": null,
   "id": "5c20ae42",
   "metadata": {
    "papermill": {
     "duration": 0.027028,
     "end_time": "2024-01-16T15:16:44.688391",
     "exception": false,
     "start_time": "2024-01-16T15:16:44.661363",
     "status": "completed"
    },
    "tags": []
   },
   "outputs": [],
   "source": []
  },
  {
   "cell_type": "code",
   "execution_count": 21,
   "id": "8bf57670",
   "metadata": {
    "execution": {
     "iopub.execute_input": "2024-01-16T15:16:44.745117Z",
     "iopub.status.busy": "2024-01-16T15:16:44.744710Z",
     "iopub.status.idle": "2024-01-16T15:16:44.758114Z",
     "shell.execute_reply": "2024-01-16T15:16:44.757244Z"
    },
    "papermill": {
     "duration": 0.04372,
     "end_time": "2024-01-16T15:16:44.760190",
     "exception": false,
     "start_time": "2024-01-16T15:16:44.716470",
     "status": "completed"
    },
    "tags": []
   },
   "outputs": [
    {
     "data": {
      "text/plain": [
       "PassengerId    0\n",
       "Pclass         0\n",
       "Sex            0\n",
       "Age            0\n",
       "SibSp          0\n",
       "Parch          0\n",
       "Fare           0\n",
       "Embarked       0\n",
       "dtype: int64"
      ]
     },
     "execution_count": 21,
     "metadata": {},
     "output_type": "execute_result"
    }
   ],
   "source": [
    "df_test['Age'] = df_test['Age'].fillna(df_test['Age'].median())\n",
    "df_test['Fare'] = df_test['Age'].fillna(df_test['Fare'].median())\n",
    "df_test.isnull().sum()"
   ]
  },
  {
   "cell_type": "markdown",
   "id": "1ad3dff7",
   "metadata": {
    "papermill": {
     "duration": 0.026758,
     "end_time": "2024-01-16T15:16:44.816090",
     "exception": false,
     "start_time": "2024-01-16T15:16:44.789332",
     "status": "completed"
    },
    "tags": []
   },
   "source": [
    "**Age distribution of passengers on board **"
   ]
  },
  {
   "cell_type": "code",
   "execution_count": 22,
   "id": "cf3f7bd4",
   "metadata": {
    "execution": {
     "iopub.execute_input": "2024-01-16T15:16:44.874662Z",
     "iopub.status.busy": "2024-01-16T15:16:44.873667Z",
     "iopub.status.idle": "2024-01-16T15:16:45.241438Z",
     "shell.execute_reply": "2024-01-16T15:16:45.239829Z"
    },
    "papermill": {
     "duration": 0.40132,
     "end_time": "2024-01-16T15:16:45.244594",
     "exception": false,
     "start_time": "2024-01-16T15:16:44.843274",
     "status": "completed"
    },
    "tags": []
   },
   "outputs": [
    {
     "data": {
      "text/plain": [
       "<Axes: >"
      ]
     },
     "execution_count": 22,
     "metadata": {},
     "output_type": "execute_result"
    },
    {
     "data": {
      "image/png": "[encoded data removed]",
      "text/plain": [
       "<Figure size 640x480 with 1 Axes>"
      ]
     },
     "metadata": {},
     "output_type": "display_data"
    }
   ],
   "source": [
    "# Tracer un histogramme de l'âge des passagers\n",
    "df_train['Age'].hist()\n",
    "\n"
   ]
  },
  {
   "cell_type": "code",
   "execution_count": 23,
   "id": "924184dd",
   "metadata": {
    "execution": {
     "iopub.execute_input": "2024-01-16T15:16:45.303209Z",
     "iopub.status.busy": "2024-01-16T15:16:45.302789Z",
     "iopub.status.idle": "2024-01-16T15:16:45.954690Z",
     "shell.execute_reply": "2024-01-16T15:16:45.953518Z"
    },
    "papermill": {
     "duration": 0.683653,
     "end_time": "2024-01-16T15:16:45.957276",
     "exception": false,
     "start_time": "2024-01-16T15:16:45.273623",
     "status": "completed"
    },
    "tags": []
   },
   "outputs": [
    {
     "data": {
      "text/plain": [
       "<Axes: xlabel='Survived', ylabel='count'>"
      ]
     },
     "execution_count": 23,
     "metadata": {},
     "output_type": "execute_result"
    },
    {
     "data": {
      "image/png": "[encoded data removed]",
      "text/plain": [
       "<Figure size 640x480 with 1 Axes>"
      ]
     },
     "metadata": {},
     "output_type": "display_data"
    }
   ],
   "source": [
    "import seaborn as sns\n",
    "sns.set_style('whitegrid')\n",
    "sns.countplot(x='Survived',data=df_train,palette='RdBu_r')"
   ]
  },
  {
   "cell_type": "markdown",
   "id": "e7cec47d",
   "metadata": {
    "papermill": {
     "duration": 0.027908,
     "end_time": "2024-01-16T15:16:46.013619",
     "exception": false,
     "start_time": "2024-01-16T15:16:45.985711",
     "status": "completed"
    },
    "tags": []
   },
   "source": [
    "**Survival by gender**"
   ]
  },
  {
   "cell_type": "code",
   "execution_count": 24,
   "id": "18045069",
   "metadata": {
    "execution": {
     "iopub.execute_input": "2024-01-16T15:16:46.071867Z",
     "iopub.status.busy": "2024-01-16T15:16:46.071442Z",
     "iopub.status.idle": "2024-01-16T15:16:46.310350Z",
     "shell.execute_reply": "2024-01-16T15:16:46.308123Z"
    },
    "papermill": {
     "duration": 0.273379,
     "end_time": "2024-01-16T15:16:46.315128",
     "exception": false,
     "start_time": "2024-01-16T15:16:46.041749",
     "status": "completed"
    },
    "tags": []
   },
   "outputs": [
    {
     "data": {
      "image/png": "[encoded data removed]",
      "text/plain": [
       "<Figure size 640x480 with 1 Axes>"
      ]
     },
     "metadata": {},
     "output_type": "display_data"
    }
   ],
   "source": [
    "import matplotlib.pyplot as plt\n",
    "\n",
    "# Créer une figure et des axes\n",
    "fig, ax = plt.subplots()\n",
    "\n",
    "# Grouper les données par sexe et survie, puis compter le nombre de passagers\n",
    "survival_counts = df_train.groupby(['Sex', 'Survived']).size().unstack()\n",
    "\n",
    "# Tracer le camembert\n",
    "colors = ['#ff9999','#66b3ff']\n",
    "labels = ['Femmes Non Survivantes', 'Femmes Survivantes', 'Hommes Non Survivants', 'Hommes Survivants']\n",
    "explode = (0, 0.1, 0, 0.1)  # Mettez en surbrillance les sections Survivantes\n",
    "ax.pie(survival_counts.values.flatten(), labels=labels, autopct='%1.1f%%', startangle=90, colors=colors, explode=explode)\n",
    "\n",
    "# Ajouter un titre\n",
    "ax.set_title('Répartition de la survie en fonction du genre')\n",
    "\n",
    "# Afficher le camembert\n",
    "plt.show()\n"
   ]
  },
  {
   "cell_type": "code",
   "execution_count": 25,
   "id": "6e44ce33",
   "metadata": {
    "execution": {
     "iopub.execute_input": "2024-01-16T15:16:46.381128Z",
     "iopub.status.busy": "2024-01-16T15:16:46.380390Z",
     "iopub.status.idle": "2024-01-16T15:16:46.734597Z",
     "shell.execute_reply": "2024-01-16T15:16:46.733096Z"
    },
    "papermill": {
     "duration": 0.388531,
     "end_time": "2024-01-16T15:16:46.737308",
     "exception": false,
     "start_time": "2024-01-16T15:16:46.348777",
     "status": "completed"
    },
    "tags": []
   },
   "outputs": [
    {
     "data": {
      "text/plain": [
       "<Axes: xlabel='Survived', ylabel='count'>"
      ]
     },
     "execution_count": 25,
     "metadata": {},
     "output_type": "execute_result"
    },
    {
     "data": {
      "image/png": "[encoded data removed]",
      "text/plain": [
       "<Figure size 640x480 with 1 Axes>"
      ]
     },
     "metadata": {},
     "output_type": "display_data"
    }
   ],
   "source": [
    "sns.set_style('whitegrid')\n",
    "sns.countplot(x='Survived',hue='Pclass',data=df_train,palette='rainbow')"
   ]
  },
  {
   "cell_type": "code",
   "execution_count": 26,
   "id": "d3f04bbd",
   "metadata": {
    "execution": {
     "iopub.execute_input": "2024-01-16T15:16:46.802142Z",
     "iopub.status.busy": "2024-01-16T15:16:46.801068Z",
     "iopub.status.idle": "2024-01-16T15:16:47.378992Z",
     "shell.execute_reply": "2024-01-16T15:16:47.377742Z"
    },
    "papermill": {
     "duration": 0.613821,
     "end_time": "2024-01-16T15:16:47.381691",
     "exception": false,
     "start_time": "2024-01-16T15:16:46.767870",
     "status": "completed"
    },
    "tags": []
   },
   "outputs": [
    {
     "name": "stderr",
     "output_type": "stream",
     "text": [
      "/tmp/ipykernel_19/372795875.py:2: UserWarning: \n",
      "\n",
      "`distplot` is a deprecated function and will be removed in seaborn v0.14.0.\n",
      "\n",
      "Please adapt your code to use either `displot` (a figure-level function with\n",
      "similar flexibility) or `histplot` (an axes-level function for histograms).\n",
      "\n",
      "For a guide to updating your code to use the new functions, please see\n",
      "https://gist.github.com/mwaskom/de44147ed2974457ad6372750bbe5751\n",
      "\n",
      "  sns.distplot(df_train['Fare'])\n"
     ]
    },
    {
     "data": {
      "text/plain": [
       "<Axes: xlabel='Fare', ylabel='Density'>"
      ]
     },
     "execution_count": 26,
     "metadata": {},
     "output_type": "execute_result"
    },
    {
     "data": {
      "image/png": "[encoded data removed]",
      "text/plain": [
       "<Figure size 640x480 with 1 Axes>"
      ]
     },
     "metadata": {},
     "output_type": "display_data"
    }
   ],
   "source": [
    "import seaborn as sns\n",
    "sns.distplot(df_train['Fare'])"
   ]
  },
  {
   "cell_type": "code",
   "execution_count": 27,
   "id": "4ed05a53",
   "metadata": {
    "execution": {
     "iopub.execute_input": "2024-01-16T15:16:47.444958Z",
     "iopub.status.busy": "2024-01-16T15:16:47.444143Z",
     "iopub.status.idle": "2024-01-16T15:16:47.842211Z",
     "shell.execute_reply": "2024-01-16T15:16:47.840971Z"
    },
    "papermill": {
     "duration": 0.43337,
     "end_time": "2024-01-16T15:16:47.845618",
     "exception": false,
     "start_time": "2024-01-16T15:16:47.412248",
     "status": "completed"
    },
    "tags": []
   },
   "outputs": [
    {
     "data": {
      "text/plain": [
       "<Axes: xlabel='Pclass', ylabel='Age'>"
      ]
     },
     "execution_count": 27,
     "metadata": {},
     "output_type": "execute_result"
    },
    {
     "data": {
      "image/png": "[encoded data removed]",
      "text/plain": [
       "<Figure size 1200x700 with 1 Axes>"
      ]
     },
     "metadata": {},
     "output_type": "display_data"
    }
   ],
   "source": [
    "plt.figure(figsize=(12, 7))\n",
    "sns.boxplot(x='Pclass',y='Age',data=df_train,palette='winter')"
   ]
  },
  {
   "cell_type": "markdown",
   "id": "1fb7d022",
   "metadata": {
    "papermill": {
     "duration": 0.031038,
     "end_time": "2024-01-16T15:16:47.914648",
     "exception": false,
     "start_time": "2024-01-16T15:16:47.883610",
     "status": "completed"
    },
    "tags": []
   },
   "source": [
    "**Histogram of women who survived**"
   ]
  },
  {
   "cell_type": "code",
   "execution_count": 28,
   "id": "c2bf197f",
   "metadata": {
    "execution": {
     "iopub.execute_input": "2024-01-16T15:16:47.982359Z",
     "iopub.status.busy": "2024-01-16T15:16:47.981527Z",
     "iopub.status.idle": "2024-01-16T15:16:51.026260Z",
     "shell.execute_reply": "2024-01-16T15:16:51.025112Z"
    },
    "papermill": {
     "duration": 3.081985,
     "end_time": "2024-01-16T15:16:51.029254",
     "exception": false,
     "start_time": "2024-01-16T15:16:47.947269",
     "status": "completed"
    },
    "tags": []
   },
   "outputs": [
    {
     "data": {
      "text/html": [
       "        <script type=\"text/javascript\">\n",
       "        window.PlotlyConfig = {MathJaxConfig: 'local'};\n",
       "        if (window.MathJax && window.MathJax.Hub && window.MathJax.Hub.Config) {window.MathJax.Hub.Config({SVG: {font: \"STIX-Web\"}});}\n",
       "        if (typeof require !== 'undefined') {\n",
       "        require.undef(\"plotly\");\n",
       "        requirejs.config({\n",
       "            paths: {\n",
       "                'plotly': ['https://cdn.plot.ly/plotly-2.25.2.min']\n",
       "            }\n",
       "        });\n",
       "        require(['plotly'], function(Plotly) {\n",
       "            window._Plotly = Plotly;\n",
       "        });\n",
       "        }\n",
       "        </script>\n",
       "        "
      ]
     },
     "metadata": {},
     "output_type": "display_data"
    },
    {
     "data": {
      "text/html": [
       "<div>                            <div id=\"f319405f-1558-4edd-a3b4-0f92201ec322\" class=\"plotly-graph-div\" style=\"height:525px; width:100%;\"></div>            <script type=\"text/javascript\">                require([\"plotly\"], function(Plotly) {                    window.PLOTLYENV=window.PLOTLYENV || {};                                    if (document.getElementById(\"f319405f-1558-4edd-a3b4-0f92201ec322\")) {                    Plotly.newPlot(                        \"f319405f-1558-4edd-a3b4-0f92201ec322\",                        [{\"alignmentgroup\":\"True\",\"bingroup\":\"x\",\"hovertemplate\":\"Age=%{x}\\u003cbr\\u003ecount=%{y}\\u003cextra\\u003e\\u003c\\u002fextra\\u003e\",\"legendgroup\":\"\",\"marker\":{\"color\":\"#636efa\",\"pattern\":{\"shape\":\"\"}},\"name\":\"\",\"nbinsx\":20,\"offsetgroup\":\"\",\"orientation\":\"v\",\"showlegend\":false,\"x\":[38.0,26.0,35.0,27.0,14.0,4.0,58.0,55.0,14.5,15.0,38.0,40.5,36.5,43.5,14.0,3.0,19.0,20.0,49.0,29.0,21.0,5.0,38.0,29.0,17.0,30.0,25.5,17.0,33.0,23.0,34.0,21.0,21.75,32.5,38.0,29.0,19.0,22.0,24.0,22.0,16.0,40.0,39.5,1.0,4.0,36.0,32.0,19.0,44.0,58.0,35.0,16.0,35.0,31.0,27.0,32.0,35.0,5.0,8.0,31.0,24.0,29.0,41.0,30.0,35.0,50.0,58.0,35.0,41.0,55.0,63.0,35.0,22.0,26.0,19.0,50.0,23.75,23.75,18.0,17.0,30.0,24.0,18.0,26.0,24.0,31.0,40.0,30.0,22.0,36.0,36.0,31.0,16.0,38.25,38.5,41.0,24.0,24.0,40.0,21.5,22.0,31.5,31.5,60.0,32.5,24.0,24.0,39.0,22.0,42.0,1.0,35.0,36.0,17.0,23.0,24.0,28.0,33.0,34.0,18.0,28.0,19.0,26.0,42.0,14.0,24.0,45.0,28.0,13.0,5.0,49.5,50.0,0.75,33.0,23.0,2.0,63.0,35.0,54.0,16.0,33.0,54.0,34.0,36.0,30.0,44.0,50.0,2.0,4.5,7.0,30.0,22.0,36.0,19.0,22.0,48.0,39.0,36.0,53.0,24.0,34.0,39.0,25.0,39.0,18.0,52.0,30.5,24.0,22.0,40.0,30.0,24.0,4.0,21.0,28.0,24.0,0.75,23.0,18.0,19.5,37.0,40.0,18.0,15.0,4.0,43.0,18.0,45.0,22.0,24.0,38.0,27.0,6.0,30.0,22.5,29.0,21.0,30.0,4.0,48.0,33.0,36.0,51.0,54.0,5.0,43.0,13.0,17.0,18.0,49.0,31.0,31.0,33.0,52.0,27.0,62.0,15.0,39.0,30.0,50.5,16.0,18.0,45.0,24.0,48.0,42.0,27.0,47.0,28.0,15.0,56.0,25.0,19.0],\"xaxis\":\"x\",\"yaxis\":\"y\",\"type\":\"histogram\"}],                        {\"template\":{\"data\":{\"histogram2dcontour\":[{\"type\":\"histogram2dcontour\",\"colorbar\":{\"outlinewidth\":0,\"ticks\":\"\"},\"colorscale\":[[0.0,\"#0d0887\"],[0.1111111111111111,\"#46039f\"],[0.2222222222222222,\"#7201a8\"],[0.3333333333333333,\"#9c179e\"],[0.4444444444444444,\"#bd3786\"],[0.5555555555555556,\"#d8576b\"],[0.6666666666666666,\"#ed7953\"],[0.7777777777777778,\"#fb9f3a\"],[0.8888888888888888,\"#fdca26\"],[1.0,\"#f0f921\"]]}],\"choropleth\":[{\"type\":\"choropleth\",\"colorbar\":{\"outlinewidth\":0,\"ticks\":\"\"}}],\"histogram2d\":[{\"type\":\"histogram2d\",\"colorbar\":{\"outlinewidth\":0,\"ticks\":\"\"},\"colorscale\":[[0.0,\"#0d0887\"],[0.1111111111111111,\"#46039f\"],[0.2222222222222222,\"#7201a8\"],[0.3333333333333333,\"#9c179e\"],[0.4444444444444444,\"#bd3786\"],[0.5555555555555556,\"#d8576b\"],[0.6666666666666666,\"#ed7953\"],[0.7777777777777778,\"#fb9f3a\"],[0.8888888888888888,\"#fdca26\"],[1.0,\"#f0f921\"]]}],\"heatmap\":[{\"type\":\"heatmap\",\"colorbar\":{\"outlinewidth\":0,\"ticks\":\"\"},\"colorscale\":[[0.0,\"#0d0887\"],[0.1111111111111111,\"#46039f\"],[0.2222222222222222,\"#7201a8\"],[0.3333333333333333,\"#9c179e\"],[0.4444444444444444,\"#bd3786\"],[0.5555555555555556,\"#d8576b\"],[0.6666666666666666,\"#ed7953\"],[0.7777777777777778,\"#fb9f3a\"],[0.8888888888888888,\"#fdca26\"],[1.0,\"#f0f921\"]]}],\"heatmapgl\":[{\"type\":\"heatmapgl\",\"colorbar\":{\"outlinewidth\":0,\"ticks\":\"\"},\"colorscale\":[[0.0,\"#0d0887\"],[0.1111111111111111,\"#46039f\"],[0.2222222222222222,\"#7201a8\"],[0.3333333333333333,\"#9c179e\"],[0.4444444444444444,\"#bd3786\"],[0.5555555555555556,\"#d8576b\"],[0.6666666666666666,\"#ed7953\"],[0.7777777777777778,\"#fb9f3a\"],[0.8888888888888888,\"#fdca26\"],[1.0,\"#f0f921\"]]}],\"contourcarpet\":[{\"type\":\"contourcarpet\",\"colorbar\":{\"outlinewidth\":0,\"ticks\":\"\"}}],\"contour\":[{\"type\":\"contour\",\"colorbar\":{\"outlinewidth\":0,\"ticks\":\"\"},\"colorscale\":[[0.0,\"#0d0887\"],[0.1111111111111111,\"#46039f\"],[0.2222222222222222,\"#7201a8\"],[0.3333333333333333,\"#9c179e\"],[0.4444444444444444,\"#bd3786\"],[0.5555555555555556,\"#d8576b\"],[0.6666666666666666,\"#ed7953\"],[0.7777777777777778,\"#fb9f3a\"],[0.8888888888888888,\"#fdca26\"],[1.0,\"#f0f921\"]]}],\"surface\":[{\"type\":\"surface\",\"colorbar\":{\"outlinewidth\":0,\"ticks\":\"\"},\"colorscale\":[[0.0,\"#0d0887\"],[0.1111111111111111,\"#46039f\"],[0.2222222222222222,\"#7201a8\"],[0.3333333333333333,\"#9c179e\"],[0.4444444444444444,\"#bd3786\"],[0.5555555555555556,\"#d8576b\"],[0.6666666666666666,\"#ed7953\"],[0.7777777777777778,\"#fb9f3a\"],[0.8888888888888888,\"#fdca26\"],[1.0,\"#f0f921\"]]}],\"mesh3d\":[{\"type\":\"mesh3d\",\"colorbar\":{\"outlinewidth\":0,\"ticks\":\"\"}}],\"scatter\":[{\"fillpattern\":{\"fillmode\":\"overlay\",\"size\":10,\"solidity\":0.2},\"type\":\"scatter\"}],\"parcoords\":[{\"type\":\"parcoords\",\"line\":{\"colorbar\":{\"outlinewidth\":0,\"ticks\":\"\"}}}],\"scatterpolargl\":[{\"type\":\"scatterpolargl\",\"marker\":{\"colorbar\":{\"outlinewidth\":0,\"ticks\":\"\"}}}],\"bar\":[{\"error_x\":{\"color\":\"#2a3f5f\"},\"error_y\":{\"color\":\"#2a3f5f\"},\"marker\":{\"line\":{\"color\":\"#E5ECF6\",\"width\":0.5},\"pattern\":{\"fillmode\":\"overlay\",\"size\":10,\"solidity\":0.2}},\"type\":\"bar\"}],\"scattergeo\":[{\"type\":\"scattergeo\",\"marker\":{\"colorbar\":{\"outlinewidth\":0,\"ticks\":\"\"}}}],\"scatterpolar\":[{\"type\":\"scatterpolar\",\"marker\":{\"colorbar\":{\"outlinewidth\":0,\"ticks\":\"\"}}}],\"histogram\":[{\"marker\":{\"pattern\":{\"fillmode\":\"overlay\",\"size\":10,\"solidity\":0.2}},\"type\":\"histogram\"}],\"scattergl\":[{\"type\":\"scattergl\",\"marker\":{\"colorbar\":{\"outlinewidth\":0,\"ticks\":\"\"}}}],\"scatter3d\":[{\"type\":\"scatter3d\",\"line\":{\"colorbar\":{\"outlinewidth\":0,\"ticks\":\"\"}},\"marker\":{\"colorbar\":{\"outlinewidth\":0,\"ticks\":\"\"}}}],\"scattermapbox\":[{\"type\":\"scattermapbox\",\"marker\":{\"colorbar\":{\"outlinewidth\":0,\"ticks\":\"\"}}}],\"scatterternary\":[{\"type\":\"scatterternary\",\"marker\":{\"colorbar\":{\"outlinewidth\":0,\"ticks\":\"\"}}}],\"scattercarpet\":[{\"type\":\"scattercarpet\",\"marker\":{\"colorbar\":{\"outlinewidth\":0,\"ticks\":\"\"}}}],\"carpet\":[{\"aaxis\":{\"endlinecolor\":\"#2a3f5f\",\"gridcolor\":\"white\",\"linecolor\":\"white\",\"minorgridcolor\":\"white\",\"startlinecolor\":\"#2a3f5f\"},\"baxis\":{\"endlinecolor\":\"#2a3f5f\",\"gridcolor\":\"white\",\"linecolor\":\"white\",\"minorgridcolor\":\"white\",\"startlinecolor\":\"#2a3f5f\"},\"type\":\"carpet\"}],\"table\":[{\"cells\":{\"fill\":{\"color\":\"#EBF0F8\"},\"line\":{\"color\":\"white\"}},\"header\":{\"fill\":{\"color\":\"#C8D4E3\"},\"line\":{\"color\":\"white\"}},\"type\":\"table\"}],\"barpolar\":[{\"marker\":{\"line\":{\"color\":\"#E5ECF6\",\"width\":0.5},\"pattern\":{\"fillmode\":\"overlay\",\"size\":10,\"solidity\":0.2}},\"type\":\"barpolar\"}],\"pie\":[{\"automargin\":true,\"type\":\"pie\"}]},\"layout\":{\"autotypenumbers\":\"strict\",\"colorway\":[\"#636efa\",\"#EF553B\",\"#00cc96\",\"#ab63fa\",\"#FFA15A\",\"#19d3f3\",\"#FF6692\",\"#B6E880\",\"#FF97FF\",\"#FECB52\"],\"font\":{\"color\":\"#2a3f5f\"},\"hovermode\":\"closest\",\"hoverlabel\":{\"align\":\"left\"},\"paper_bgcolor\":\"white\",\"plot_bgcolor\":\"#E5ECF6\",\"polar\":{\"bgcolor\":\"#E5ECF6\",\"angularaxis\":{\"gridcolor\":\"white\",\"linecolor\":\"white\",\"ticks\":\"\"},\"radialaxis\":{\"gridcolor\":\"white\",\"linecolor\":\"white\",\"ticks\":\"\"}},\"ternary\":{\"bgcolor\":\"#E5ECF6\",\"aaxis\":{\"gridcolor\":\"white\",\"linecolor\":\"white\",\"ticks\":\"\"},\"baxis\":{\"gridcolor\":\"white\",\"linecolor\":\"white\",\"ticks\":\"\"},\"caxis\":{\"gridcolor\":\"white\",\"linecolor\":\"white\",\"ticks\":\"\"}},\"coloraxis\":{\"colorbar\":{\"outlinewidth\":0,\"ticks\":\"\"}},\"colorscale\":{\"sequential\":[[0.0,\"#0d0887\"],[0.1111111111111111,\"#46039f\"],[0.2222222222222222,\"#7201a8\"],[0.3333333333333333,\"#9c179e\"],[0.4444444444444444,\"#bd3786\"],[0.5555555555555556,\"#d8576b\"],[0.6666666666666666,\"#ed7953\"],[0.7777777777777778,\"#fb9f3a\"],[0.8888888888888888,\"#fdca26\"],[1.0,\"#f0f921\"]],\"sequentialminus\":[[0.0,\"#0d0887\"],[0.1111111111111111,\"#46039f\"],[0.2222222222222222,\"#7201a8\"],[0.3333333333333333,\"#9c179e\"],[0.4444444444444444,\"#bd3786\"],[0.5555555555555556,\"#d8576b\"],[0.6666666666666666,\"#ed7953\"],[0.7777777777777778,\"#fb9f3a\"],[0.8888888888888888,\"#fdca26\"],[1.0,\"#f0f921\"]],\"diverging\":[[0,\"#8e0152\"],[0.1,\"#c51b7d\"],[0.2,\"#de77ae\"],[0.3,\"#f1b6da\"],[0.4,\"#fde0ef\"],[0.5,\"#f7f7f7\"],[0.6,\"#e6f5d0\"],[0.7,\"#b8e186\"],[0.8,\"#7fbc41\"],[0.9,\"#4d9221\"],[1,\"#276419\"]]},\"xaxis\":{\"gridcolor\":\"white\",\"linecolor\":\"white\",\"ticks\":\"\",\"title\":{\"standoff\":15},\"zerolinecolor\":\"white\",\"automargin\":true,\"zerolinewidth\":2},\"yaxis\":{\"gridcolor\":\"white\",\"linecolor\":\"white\",\"ticks\":\"\",\"title\":{\"standoff\":15},\"zerolinecolor\":\"white\",\"automargin\":true,\"zerolinewidth\":2},\"scene\":{\"xaxis\":{\"backgroundcolor\":\"#E5ECF6\",\"gridcolor\":\"white\",\"linecolor\":\"white\",\"showbackground\":true,\"ticks\":\"\",\"zerolinecolor\":\"white\",\"gridwidth\":2},\"yaxis\":{\"backgroundcolor\":\"#E5ECF6\",\"gridcolor\":\"white\",\"linecolor\":\"white\",\"showbackground\":true,\"ticks\":\"\",\"zerolinecolor\":\"white\",\"gridwidth\":2},\"zaxis\":{\"backgroundcolor\":\"#E5ECF6\",\"gridcolor\":\"white\",\"linecolor\":\"white\",\"showbackground\":true,\"ticks\":\"\",\"zerolinecolor\":\"white\",\"gridwidth\":2}},\"shapedefaults\":{\"line\":{\"color\":\"#2a3f5f\"}},\"annotationdefaults\":{\"arrowcolor\":\"#2a3f5f\",\"arrowhead\":0,\"arrowwidth\":1},\"geo\":{\"bgcolor\":\"white\",\"landcolor\":\"#E5ECF6\",\"subunitcolor\":\"white\",\"showland\":true,\"showlakes\":true,\"lakecolor\":\"white\"},\"title\":{\"x\":0.05},\"mapbox\":{\"style\":\"light\"}}},\"xaxis\":{\"anchor\":\"y\",\"domain\":[0.0,1.0],\"title\":{\"text\":\"Age\"}},\"yaxis\":{\"anchor\":\"x\",\"domain\":[0.0,1.0],\"title\":{\"text\":\"count\"}},\"legend\":{\"tracegroupgap\":0},\"title\":{\"text\":\"Histogramme des femmes qui ont survécu\"},\"barmode\":\"relative\"},                        {\"responsive\": true}                    ).then(function(){\n",
       "                            \n",
       "var gd = document.getElementById('f319405f-1558-4edd-a3b4-0f92201ec322');\n",
       "var x = new MutationObserver(function (mutations, observer) {{\n",
       "        var display = window.getComputedStyle(gd).display;\n",
       "        if (!display || display === 'none') {{\n",
       "            console.log([gd, 'removed!']);\n",
       "            Plotly.purge(gd);\n",
       "            observer.disconnect();\n",
       "        }}\n",
       "}});\n",
       "\n",
       "// Listen for the removal of the full notebook cells\n",
       "var notebookContainer = gd.closest('#notebook-container');\n",
       "if (notebookContainer) {{\n",
       "    x.observe(notebookContainer, {childList: true});\n",
       "}}\n",
       "\n",
       "// Listen for the clearing of the current output cell\n",
       "var outputEl = gd.closest('.output');\n",
       "if (outputEl) {{\n",
       "    x.observe(outputEl, {childList: true});\n",
       "}}\n",
       "\n",
       "                        })                };                });            </script>        </div>"
      ]
     },
     "metadata": {},
     "output_type": "display_data"
    }
   ],
   "source": [
    "import plotly.express as px\n",
    "\n",
    "# Filtrer les données pour inclure uniquement les femmes qui ont survécu\n",
    "survived_women = df_train[(df_train['Sex'] == 0) & (df_train['Survived'] == 1)]\n",
    "\n",
    "# Tracer l'histogramme des femmes qui ont survécu\n",
    "fig = px.histogram(survived_women, x='Age', nbins=20, title='Histogramme des femmes qui ont survécu')\n",
    "fig.show()\n"
   ]
  },
  {
   "cell_type": "code",
   "execution_count": 29,
   "id": "66a985d7",
   "metadata": {
    "execution": {
     "iopub.execute_input": "2024-01-16T15:16:51.095407Z",
     "iopub.status.busy": "2024-01-16T15:16:51.094958Z",
     "iopub.status.idle": "2024-01-16T15:16:54.623829Z",
     "shell.execute_reply": "2024-01-16T15:16:54.622356Z"
    },
    "papermill": {
     "duration": 3.565323,
     "end_time": "2024-01-16T15:16:54.626635",
     "exception": false,
     "start_time": "2024-01-16T15:16:51.061312",
     "status": "completed"
    },
    "tags": []
   },
   "outputs": [
    {
     "data": {
      "image/png": "[encoded data removed]",
      "text/plain": [
       "<Figure size 640x480 with 1 Axes>"
      ]
     },
     "metadata": {},
     "output_type": "display_data"
    },
    {
     "data": {
      "image/png": "[encoded data removed]",
      "text/plain": [
       "<Figure size 640x480 with 1 Axes>"
      ]
     },
     "metadata": {},
     "output_type": "display_data"
    },
    {
     "data": {
      "image/png": "[encoded data removed]",
      "text/plain": [
       "<Figure size 640x480 with 1 Axes>"
      ]
     },
     "metadata": {},
     "output_type": "display_data"
    },
    {
     "data": {
      "image/png": "[encoded data removed]",
      "text/plain": [
       "<Figure size 640x480 with 2 Axes>"
      ]
     },
     "metadata": {},
     "output_type": "display_data"
    },
    {
     "name": "stderr",
     "output_type": "stream",
     "text": [
      "/tmp/ipykernel_19/1972868563.py:36: FutureWarning:\n",
      "\n",
      "\n",
      "\n",
      "`shade` is now deprecated in favor of `fill`; setting `fill=True`.\n",
      "This will become an error in seaborn v0.14.0; please update your code.\n",
      "\n",
      "\n"
     ]
    },
    {
     "data": {
      "image/png": "[encoded data removed]",
      "text/plain": [
       "<Figure size 640x480 with 1 Axes>"
      ]
     },
     "metadata": {},
     "output_type": "display_data"
    },
    {
     "data": {
      "image/png": "[encoded data removed]",
      "text/plain": [
       "<Figure size 640x480 with 1 Axes>"
      ]
     },
     "metadata": {},
     "output_type": "display_data"
    },
    {
     "data": {
      "image/png": "[encoded data removed]",
      "text/plain": [
       "<Figure size 640x480 with 1 Axes>"
      ]
     },
     "metadata": {},
     "output_type": "display_data"
    },
    {
     "data": {
      "image/png": "[encoded data removed]",
      "text/plain": [
       "<Figure size 640x480 with 1 Axes>"
      ]
     },
     "metadata": {},
     "output_type": "display_data"
    }
   ],
   "source": [
    "# Importation des bibliothèques nécessaires\n",
    "import pandas as pd  # Ajout de l'importation de la bibliothèque Pandas\n",
    "import seaborn as sns\n",
    "import matplotlib.pyplot as plt\n",
    "\n",
    "# Chargement des données\n",
    "# Assurez-vous d'ajuster le chemin du fichier CSV en conséquence\n",
    "df_train \n",
    "\n",
    "# Diagramme en barres pour Embarked\n",
    "sns.countplot(x='Embarked', data=df_train)\n",
    "plt.title('Répartition par port d\\'embarquement')\n",
    "plt.show()\n",
    "\n",
    "# Diagramme de dispersion entre l'âge et le tarif\n",
    "sns.scatterplot(x='Age', y='Fare', data=df_train)\n",
    "plt.title('Relation entre l\\'âge et le tarif')\n",
    "plt.show()\n",
    "\n",
    "# Diagramme en boîte pour Pclass par rapport à l'âge\n",
    "sns.boxplot(x='Pclass', y='Age', data=df_train)\n",
    "plt.title('Répartition de l\\'âge par classe')\n",
    "plt.show()\n",
    "\n",
    "# Exclure les colonnes non numériques du calcul de la corrélation\n",
    "numeric_columns = df_train.select_dtypes(include=['float64', 'int64']).columns\n",
    "correlation_matrix = df_train[numeric_columns].corr()\n",
    "\n",
    "# Heatmap de corrélation\n",
    "sns.heatmap(correlation_matrix, annot=True, cmap='coolwarm')\n",
    "plt.title('Heatmap de corrélation')\n",
    "plt.show()\n",
    "\n",
    "\n",
    "# Diagramme de densité pour l'âge\n",
    "sns.kdeplot(df_train['Age'].dropna(), shade=True)\n",
    "plt.title('Diagramme de densité pour l\\'âge')\n",
    "plt.show()\n",
    "\n",
    "# Graphique de barres empilées pour Survived par classe et sexe\n",
    "sns.countplot(x='Pclass', hue='Sex', data=df_train, hue_order=['male', 'female'], palette='viridis')\n",
    "plt.title('Répartition de Survived par classe et sexe')\n",
    "plt.show()\n",
    "\n",
    "# Diagramme en barres pour SibSp\n",
    "sns.countplot(x='SibSp', data=df_train)\n",
    "plt.title('Distribution du nombre de frères, sœurs, conjoints à bord')\n",
    "plt.xlabel('Nombre de frères, sœurs, conjoints')\n",
    "plt.ylabel('Nombre de passagers')\n",
    "plt.show()\n",
    "\n",
    "# Diagramme en barres pour Parch\n",
    "sns.countplot(x='Parch', data=df_train)\n",
    "plt.title('Distribution du nombre de parents, enfants à bord')\n",
    "plt.xlabel('Nombre de parents, enfants')\n",
    "plt.ylabel('Nombre de passagers')\n",
    "plt.show()\n",
    "\n",
    "\n",
    "\n",
    "\n"
   ]
  },
  {
   "cell_type": "markdown",
   "id": "2cc0036f",
   "metadata": {
    "papermill": {
     "duration": 0.038761,
     "end_time": "2024-01-16T15:16:54.705050",
     "exception": false,
     "start_time": "2024-01-16T15:16:54.666289",
     "status": "completed"
    },
    "tags": []
   },
   "source": [
    "# DIFFERENT MODELS"
   ]
  },
  {
   "cell_type": "code",
   "execution_count": 30,
   "id": "295b883b",
   "metadata": {
    "execution": {
     "iopub.execute_input": "2024-01-16T15:16:54.783726Z",
     "iopub.status.busy": "2024-01-16T15:16:54.783281Z",
     "iopub.status.idle": "2024-01-16T15:16:54.789292Z",
     "shell.execute_reply": "2024-01-16T15:16:54.788075Z"
    },
    "papermill": {
     "duration": 0.048352,
     "end_time": "2024-01-16T15:16:54.791940",
     "exception": false,
     "start_time": "2024-01-16T15:16:54.743588",
     "status": "completed"
    },
    "tags": []
   },
   "outputs": [],
   "source": [
    "from sklearn.model_selection import train_test_split\n",
    "from sklearn.linear_model import LogisticRegression\n",
    "from sklearn.metrics import accuracy_score\n",
    "import pandas as pd"
   ]
  },
  {
   "cell_type": "markdown",
   "id": "92202e7a",
   "metadata": {
    "papermill": {
     "duration": 0.037364,
     "end_time": "2024-01-16T15:16:54.871683",
     "exception": false,
     "start_time": "2024-01-16T15:16:54.834319",
     "status": "completed"
    },
    "tags": []
   },
   "source": []
  },
  {
   "cell_type": "code",
   "execution_count": 31,
   "id": "4d2cf0d9",
   "metadata": {
    "execution": {
     "iopub.execute_input": "2024-01-16T15:16:54.951354Z",
     "iopub.status.busy": "2024-01-16T15:16:54.950693Z",
     "iopub.status.idle": "2024-01-16T15:16:54.959858Z",
     "shell.execute_reply": "2024-01-16T15:16:54.958893Z"
    },
    "papermill": {
     "duration": 0.05106,
     "end_time": "2024-01-16T15:16:54.962397",
     "exception": false,
     "start_time": "2024-01-16T15:16:54.911337",
     "status": "completed"
    },
    "tags": []
   },
   "outputs": [],
   "source": [
    "# Charger les données\n",
    "X = df_train.drop('Survived', axis=1)  # supprimer la colonne cible\n",
    "y = df_train['Survived']  # définir la colonne cible\n",
    "# Diviser les données en ensembles d'entraînement et de test\n",
    "X_train, X_test, y_train, y_test = train_test_split(X, y, test_size=0.2, random_state=42)\n"
   ]
  },
  {
   "cell_type": "markdown",
   "id": "463850b8",
   "metadata": {
    "papermill": {
     "duration": 0.037211,
     "end_time": "2024-01-16T15:16:55.039065",
     "exception": false,
     "start_time": "2024-01-16T15:16:55.001854",
     "status": "completed"
    },
    "tags": []
   },
   "source": [
    "# LOGISTIC MODEL"
   ]
  },
  {
   "cell_type": "code",
   "execution_count": 32,
   "id": "fe3bb38a",
   "metadata": {
    "execution": {
     "iopub.execute_input": "2024-01-16T15:16:55.119240Z",
     "iopub.status.busy": "2024-01-16T15:16:55.117796Z",
     "iopub.status.idle": "2024-01-16T15:16:55.182222Z",
     "shell.execute_reply": "2024-01-16T15:16:55.181079Z"
    },
    "papermill": {
     "duration": 0.106655,
     "end_time": "2024-01-16T15:16:55.184595",
     "exception": false,
     "start_time": "2024-01-16T15:16:55.077940",
     "status": "completed"
    },
    "tags": []
   },
   "outputs": [
    {
     "data": {
      "text/html": [
       "<style>#sk-container-id-1 {color: black;background-color: white;}#sk-container-id-1 pre{padding: 0;}#sk-container-id-1 div.sk-toggleable {background-color: white;}#sk-container-id-1 label.sk-toggleable__label {cursor: pointer;display: block;width: 100%;margin-bottom: 0;padding: 0.3em;box-sizing: border-box;text-align: center;}#sk-container-id-1 label.sk-toggleable__label-arrow:before {content: \"▸\";float: left;margin-right: 0.25em;color: #696969;}#sk-container-id-1 label.sk-toggleable__label-arrow:hover:before {color: black;}#sk-container-id-1 div.sk-estimator:hover label.sk-toggleable__label-arrow:before {color: black;}#sk-container-id-1 div.sk-toggleable__content {max-height: 0;max-width: 0;overflow: hidden;text-align: left;background-color: #f0f8ff;}#sk-container-id-1 div.sk-toggleable__content pre {margin: 0.2em;color: black;border-radius: 0.25em;background-color: #f0f8ff;}#sk-container-id-1 input.sk-toggleable__control:checked~div.sk-toggleable__content {max-height: 200px;max-width: 100%;overflow: auto;}#sk-container-id-1 input.sk-toggleable__control:checked~label.sk-toggleable__label-arrow:before {content: \"▾\";}#sk-container-id-1 div.sk-estimator input.sk-toggleable__control:checked~label.sk-toggleable__label {background-color: #d4ebff;}#sk-container-id-1 div.sk-label input.sk-toggleable__control:checked~label.sk-toggleable__label {background-color: #d4ebff;}#sk-container-id-1 input.sk-hidden--visually {border: 0;clip: rect(1px 1px 1px 1px);clip: rect(1px, 1px, 1px, 1px);height: 1px;margin: -1px;overflow: hidden;padding: 0;position: absolute;width: 1px;}#sk-container-id-1 div.sk-estimator {font-family: monospace;background-color: #f0f8ff;border: 1px dotted black;border-radius: 0.25em;box-sizing: border-box;margin-bottom: 0.5em;}#sk-container-id-1 div.sk-estimator:hover {background-color: #d4ebff;}#sk-container-id-1 div.sk-parallel-item::after {content: \"\";width: 100%;border-bottom: 1px solid gray;flex-grow: 1;}#sk-container-id-1 div.sk-label:hover label.sk-toggleable__label {background-color: #d4ebff;}#sk-container-id-1 div.sk-serial::before {content: \"\";position: absolute;border-left: 1px solid gray;box-sizing: border-box;top: 0;bottom: 0;left: 50%;z-index: 0;}#sk-container-id-1 div.sk-serial {display: flex;flex-direction: column;align-items: center;background-color: white;padding-right: 0.2em;padding-left: 0.2em;position: relative;}#sk-container-id-1 div.sk-item {position: relative;z-index: 1;}#sk-container-id-1 div.sk-parallel {display: flex;align-items: stretch;justify-content: center;background-color: white;position: relative;}#sk-container-id-1 div.sk-item::before, #sk-container-id-1 div.sk-parallel-item::before {content: \"\";position: absolute;border-left: 1px solid gray;box-sizing: border-box;top: 0;bottom: 0;left: 50%;z-index: -1;}#sk-container-id-1 div.sk-parallel-item {display: flex;flex-direction: column;z-index: 1;position: relative;background-color: white;}#sk-container-id-1 div.sk-parallel-item:first-child::after {align-self: flex-end;width: 50%;}#sk-container-id-1 div.sk-parallel-item:last-child::after {align-self: flex-start;width: 50%;}#sk-container-id-1 div.sk-parallel-item:only-child::after {width: 0;}#sk-container-id-1 div.sk-dashed-wrapped {border: 1px dashed gray;margin: 0 0.4em 0.5em 0.4em;box-sizing: border-box;padding-bottom: 0.4em;background-color: white;}#sk-container-id-1 div.sk-label label {font-family: monospace;font-weight: bold;display: inline-block;line-height: 1.2em;}#sk-container-id-1 div.sk-label-container {text-align: center;}#sk-container-id-1 div.sk-container {/* jupyter's `normalize.less` sets `[hidden] { display: none; }` but bootstrap.min.css set `[hidden] { display: none !important; }` so we also need the `!important` here to be able to override the default hidden behavior on the sphinx rendered scikit-learn.org. See: https://github.com/scikit-learn/scikit-learn/issues/21755 */display: inline-block !important;position: relative;}#sk-container-id-1 div.sk-text-repr-fallback {display: none;}</style><div id=\"sk-container-id-1\" class=\"sk-top-container\"><div class=\"sk-text-repr-fallback\"><pre>LogisticRegression(max_iter=1000)</pre><b>In a Jupyter environment, please rerun this cell to show the HTML representation or trust the notebook. <br />On GitHub, the HTML representation is unable to render, please try loading this page with nbviewer.org.</b></div><div class=\"sk-container\" hidden><div class=\"sk-item\"><div class=\"sk-estimator sk-toggleable\"><input class=\"sk-toggleable__control sk-hidden--visually\" id=\"sk-estimator-id-1\" type=\"checkbox\" checked><label for=\"sk-estimator-id-1\" class=\"sk-toggleable__label sk-toggleable__label-arrow\">LogisticRegression</label><div class=\"sk-toggleable__content\"><pre>LogisticRegression(max_iter=1000)</pre></div></div></div></div></div>"
      ],
      "text/plain": [
       "LogisticRegression(max_iter=1000)"
      ]
     },
     "execution_count": 32,
     "metadata": {},
     "output_type": "execute_result"
    }
   ],
   "source": [
    "# Créer et entraîner le modèle\n",
    "model = LogisticRegression(max_iter=1000)\n",
    "model.fit(X_train, y_train)\n"
   ]
  },
  {
   "cell_type": "code",
   "execution_count": 33,
   "id": "62080128",
   "metadata": {
    "execution": {
     "iopub.execute_input": "2024-01-16T15:16:55.261840Z",
     "iopub.status.busy": "2024-01-16T15:16:55.261207Z",
     "iopub.status.idle": "2024-01-16T15:16:55.271285Z",
     "shell.execute_reply": "2024-01-16T15:16:55.269566Z"
    },
    "papermill": {
     "duration": 0.052112,
     "end_time": "2024-01-16T15:16:55.274008",
     "exception": false,
     "start_time": "2024-01-16T15:16:55.221896",
     "status": "completed"
    },
    "tags": []
   },
   "outputs": [
    {
     "name": "stdout",
     "output_type": "stream",
     "text": [
      "Accuracy:  0.8100558659217877\n"
     ]
    }
   ],
   "source": [
    "# Prédire les résultats du test\n",
    "predictions = model.predict(X_test)\n",
    "# Évaluer le modèle\n",
    "print(\"Accuracy: \", accuracy_score(y_test, predictions))\n"
   ]
  },
  {
   "cell_type": "code",
   "execution_count": null,
   "id": "d1bad841",
   "metadata": {
    "papermill": {
     "duration": 0.037781,
     "end_time": "2024-01-16T15:16:55.349467",
     "exception": false,
     "start_time": "2024-01-16T15:16:55.311686",
     "status": "completed"
    },
    "tags": []
   },
   "outputs": [],
   "source": []
  },
  {
   "cell_type": "markdown",
   "id": "10206b1c",
   "metadata": {
    "papermill": {
     "duration": 0.037126,
     "end_time": "2024-01-16T15:16:55.425042",
     "exception": false,
     "start_time": "2024-01-16T15:16:55.387916",
     "status": "completed"
    },
    "tags": []
   },
   "source": [
    "**EVALUATION DU MODELE**"
   ]
  },
  {
   "cell_type": "code",
   "execution_count": 34,
   "id": "e4dba7ba",
   "metadata": {
    "execution": {
     "iopub.execute_input": "2024-01-16T15:16:55.504102Z",
     "iopub.status.busy": "2024-01-16T15:16:55.503658Z",
     "iopub.status.idle": "2024-01-16T15:16:55.508347Z",
     "shell.execute_reply": "2024-01-16T15:16:55.507494Z"
    },
    "papermill": {
     "duration": 0.048016,
     "end_time": "2024-01-16T15:16:55.510598",
     "exception": false,
     "start_time": "2024-01-16T15:16:55.462582",
     "status": "completed"
    },
    "tags": []
   },
   "outputs": [],
   "source": [
    "from sklearn.metrics import classification_report,confusion_matrix"
   ]
  },
  {
   "cell_type": "code",
   "execution_count": 35,
   "id": "faf5d7af",
   "metadata": {
    "execution": {
     "iopub.execute_input": "2024-01-16T15:16:55.588952Z",
     "iopub.status.busy": "2024-01-16T15:16:55.587937Z",
     "iopub.status.idle": "2024-01-16T15:16:55.595976Z",
     "shell.execute_reply": "2024-01-16T15:16:55.594945Z"
    },
    "papermill": {
     "duration": 0.049912,
     "end_time": "2024-01-16T15:16:55.598338",
     "exception": false,
     "start_time": "2024-01-16T15:16:55.548426",
     "status": "completed"
    },
    "tags": []
   },
   "outputs": [
    {
     "name": "stdout",
     "output_type": "stream",
     "text": [
      "[[90 15]\n",
      " [19 55]]\n"
     ]
    }
   ],
   "source": [
    "print(confusion_matrix(y_test,predictions))"
   ]
  },
  {
   "cell_type": "code",
   "execution_count": 36,
   "id": "03002f77",
   "metadata": {
    "execution": {
     "iopub.execute_input": "2024-01-16T15:16:55.676450Z",
     "iopub.status.busy": "2024-01-16T15:16:55.675824Z",
     "iopub.status.idle": "2024-01-16T15:16:55.690514Z",
     "shell.execute_reply": "2024-01-16T15:16:55.689001Z"
    },
    "papermill": {
     "duration": 0.05692,
     "end_time": "2024-01-16T15:16:55.693269",
     "exception": false,
     "start_time": "2024-01-16T15:16:55.636349",
     "status": "completed"
    },
    "tags": []
   },
   "outputs": [
    {
     "name": "stdout",
     "output_type": "stream",
     "text": [
      "              precision    recall  f1-score   support\n",
      "\n",
      "         0.0       0.83      0.86      0.84       105\n",
      "         1.0       0.79      0.74      0.76        74\n",
      "\n",
      "    accuracy                           0.81       179\n",
      "   macro avg       0.81      0.80      0.80       179\n",
      "weighted avg       0.81      0.81      0.81       179\n",
      "\n"
     ]
    }
   ],
   "source": [
    "print(classification_report(y_test,predictions))"
   ]
  },
  {
   "cell_type": "markdown",
   "id": "da90b03d",
   "metadata": {
    "papermill": {
     "duration": 0.03802,
     "end_time": "2024-01-16T15:16:55.769825",
     "exception": false,
     "start_time": "2024-01-16T15:16:55.731805",
     "status": "completed"
    },
    "tags": []
   },
   "source": [
    "# RANDOM FOREST"
   ]
  },
  {
   "cell_type": "code",
   "execution_count": 37,
   "id": "c9f3207a",
   "metadata": {
    "execution": {
     "iopub.execute_input": "2024-01-16T15:16:55.849760Z",
     "iopub.status.busy": "2024-01-16T15:16:55.849292Z",
     "iopub.status.idle": "2024-01-16T15:16:55.962238Z",
     "shell.execute_reply": "2024-01-16T15:16:55.960922Z"
    },
    "papermill": {
     "duration": 0.156458,
     "end_time": "2024-01-16T15:16:55.965828",
     "exception": false,
     "start_time": "2024-01-16T15:16:55.809370",
     "status": "completed"
    },
    "tags": []
   },
   "outputs": [],
   "source": [
    "import pandas as pd\n",
    "from sklearn.model_selection import train_test_split\n",
    "from sklearn.ensemble import RandomForestClassifier\n",
    "from sklearn.metrics import accuracy_score"
   ]
  },
  {
   "cell_type": "code",
   "execution_count": 38,
   "id": "6e9ea772",
   "metadata": {
    "execution": {
     "iopub.execute_input": "2024-01-16T15:16:56.046173Z",
     "iopub.status.busy": "2024-01-16T15:16:56.044909Z",
     "iopub.status.idle": "2024-01-16T15:16:56.331887Z",
     "shell.execute_reply": "2024-01-16T15:16:56.329991Z"
    },
    "papermill": {
     "duration": 0.330737,
     "end_time": "2024-01-16T15:16:56.334417",
     "exception": false,
     "start_time": "2024-01-16T15:16:56.003680",
     "status": "completed"
    },
    "tags": []
   },
   "outputs": [
    {
     "data": {
      "text/html": [
       "<style>#sk-container-id-2 {color: black;background-color: white;}#sk-container-id-2 pre{padding: 0;}#sk-container-id-2 div.sk-toggleable {background-color: white;}#sk-container-id-2 label.sk-toggleable__label {cursor: pointer;display: block;width: 100%;margin-bottom: 0;padding: 0.3em;box-sizing: border-box;text-align: center;}#sk-container-id-2 label.sk-toggleable__label-arrow:before {content: \"▸\";float: left;margin-right: 0.25em;color: #696969;}#sk-container-id-2 label.sk-toggleable__label-arrow:hover:before {color: black;}#sk-container-id-2 div.sk-estimator:hover label.sk-toggleable__label-arrow:before {color: black;}#sk-container-id-2 div.sk-toggleable__content {max-height: 0;max-width: 0;overflow: hidden;text-align: left;background-color: #f0f8ff;}#sk-container-id-2 div.sk-toggleable__content pre {margin: 0.2em;color: black;border-radius: 0.25em;background-color: #f0f8ff;}#sk-container-id-2 input.sk-toggleable__control:checked~div.sk-toggleable__content {max-height: 200px;max-width: 100%;overflow: auto;}#sk-container-id-2 input.sk-toggleable__control:checked~label.sk-toggleable__label-arrow:before {content: \"▾\";}#sk-container-id-2 div.sk-estimator input.sk-toggleable__control:checked~label.sk-toggleable__label {background-color: #d4ebff;}#sk-container-id-2 div.sk-label input.sk-toggleable__control:checked~label.sk-toggleable__label {background-color: #d4ebff;}#sk-container-id-2 input.sk-hidden--visually {border: 0;clip: rect(1px 1px 1px 1px);clip: rect(1px, 1px, 1px, 1px);height: 1px;margin: -1px;overflow: hidden;padding: 0;position: absolute;width: 1px;}#sk-container-id-2 div.sk-estimator {font-family: monospace;background-color: #f0f8ff;border: 1px dotted black;border-radius: 0.25em;box-sizing: border-box;margin-bottom: 0.5em;}#sk-container-id-2 div.sk-estimator:hover {background-color: #d4ebff;}#sk-container-id-2 div.sk-parallel-item::after {content: \"\";width: 100%;border-bottom: 1px solid gray;flex-grow: 1;}#sk-container-id-2 div.sk-label:hover label.sk-toggleable__label {background-color: #d4ebff;}#sk-container-id-2 div.sk-serial::before {content: \"\";position: absolute;border-left: 1px solid gray;box-sizing: border-box;top: 0;bottom: 0;left: 50%;z-index: 0;}#sk-container-id-2 div.sk-serial {display: flex;flex-direction: column;align-items: center;background-color: white;padding-right: 0.2em;padding-left: 0.2em;position: relative;}#sk-container-id-2 div.sk-item {position: relative;z-index: 1;}#sk-container-id-2 div.sk-parallel {display: flex;align-items: stretch;justify-content: center;background-color: white;position: relative;}#sk-container-id-2 div.sk-item::before, #sk-container-id-2 div.sk-parallel-item::before {content: \"\";position: absolute;border-left: 1px solid gray;box-sizing: border-box;top: 0;bottom: 0;left: 50%;z-index: -1;}#sk-container-id-2 div.sk-parallel-item {display: flex;flex-direction: column;z-index: 1;position: relative;background-color: white;}#sk-container-id-2 div.sk-parallel-item:first-child::after {align-self: flex-end;width: 50%;}#sk-container-id-2 div.sk-parallel-item:last-child::after {align-self: flex-start;width: 50%;}#sk-container-id-2 div.sk-parallel-item:only-child::after {width: 0;}#sk-container-id-2 div.sk-dashed-wrapped {border: 1px dashed gray;margin: 0 0.4em 0.5em 0.4em;box-sizing: border-box;padding-bottom: 0.4em;background-color: white;}#sk-container-id-2 div.sk-label label {font-family: monospace;font-weight: bold;display: inline-block;line-height: 1.2em;}#sk-container-id-2 div.sk-label-container {text-align: center;}#sk-container-id-2 div.sk-container {/* jupyter's `normalize.less` sets `[hidden] { display: none; }` but bootstrap.min.css set `[hidden] { display: none !important; }` so we also need the `!important` here to be able to override the default hidden behavior on the sphinx rendered scikit-learn.org. See: https://github.com/scikit-learn/scikit-learn/issues/21755 */display: inline-block !important;position: relative;}#sk-container-id-2 div.sk-text-repr-fallback {display: none;}</style><div id=\"sk-container-id-2\" class=\"sk-top-container\"><div class=\"sk-text-repr-fallback\"><pre>RandomForestClassifier()</pre><b>In a Jupyter environment, please rerun this cell to show the HTML representation or trust the notebook. <br />On GitHub, the HTML representation is unable to render, please try loading this page with nbviewer.org.</b></div><div class=\"sk-container\" hidden><div class=\"sk-item\"><div class=\"sk-estimator sk-toggleable\"><input class=\"sk-toggleable__control sk-hidden--visually\" id=\"sk-estimator-id-2\" type=\"checkbox\" checked><label for=\"sk-estimator-id-2\" class=\"sk-toggleable__label sk-toggleable__label-arrow\">RandomForestClassifier</label><div class=\"sk-toggleable__content\"><pre>RandomForestClassifier()</pre></div></div></div></div></div>"
      ],
      "text/plain": [
       "RandomForestClassifier()"
      ]
     },
     "execution_count": 38,
     "metadata": {},
     "output_type": "execute_result"
    }
   ],
   "source": [
    "# Créer et entraîner le modèle\n",
    "model = RandomForestClassifier()\n",
    "model.fit(X_train, y_train)\n",
    "#model.score(X,y)\n"
   ]
  },
  {
   "cell_type": "code",
   "execution_count": 39,
   "id": "575b72ca",
   "metadata": {
    "execution": {
     "iopub.execute_input": "2024-01-16T15:16:56.419474Z",
     "iopub.status.busy": "2024-01-16T15:16:56.418156Z",
     "iopub.status.idle": "2024-01-16T15:16:56.438947Z",
     "shell.execute_reply": "2024-01-16T15:16:56.437656Z"
    },
    "papermill": {
     "duration": 0.067676,
     "end_time": "2024-01-16T15:16:56.441572",
     "exception": false,
     "start_time": "2024-01-16T15:16:56.373896",
     "status": "completed"
    },
    "tags": []
   },
   "outputs": [
    {
     "name": "stdout",
     "output_type": "stream",
     "text": [
      "Accuracy:  0.8044692737430168\n"
     ]
    }
   ],
   "source": [
    "# Prédire les résultats du test\n",
    "predictions = model.predict(X_test)\n",
    "# Évaluer le modèle\n",
    "print(\"Accuracy: \", accuracy_score(y_test, predictions))"
   ]
  },
  {
   "cell_type": "code",
   "execution_count": 40,
   "id": "bece1c05",
   "metadata": {
    "execution": {
     "iopub.execute_input": "2024-01-16T15:16:56.519596Z",
     "iopub.status.busy": "2024-01-16T15:16:56.519110Z",
     "iopub.status.idle": "2024-01-16T15:16:56.527939Z",
     "shell.execute_reply": "2024-01-16T15:16:56.526808Z"
    },
    "papermill": {
     "duration": 0.050948,
     "end_time": "2024-01-16T15:16:56.530479",
     "exception": false,
     "start_time": "2024-01-16T15:16:56.479531",
     "status": "completed"
    },
    "tags": []
   },
   "outputs": [
    {
     "name": "stdout",
     "output_type": "stream",
     "text": [
      "[[92 13]\n",
      " [22 52]]\n"
     ]
    }
   ],
   "source": [
    "print(confusion_matrix(y_test,predictions))"
   ]
  },
  {
   "cell_type": "code",
   "execution_count": 41,
   "id": "bd4d27cb",
   "metadata": {
    "execution": {
     "iopub.execute_input": "2024-01-16T15:16:56.614626Z",
     "iopub.status.busy": "2024-01-16T15:16:56.613339Z",
     "iopub.status.idle": "2024-01-16T15:16:56.630483Z",
     "shell.execute_reply": "2024-01-16T15:16:56.628600Z"
    },
    "papermill": {
     "duration": 0.063113,
     "end_time": "2024-01-16T15:16:56.633811",
     "exception": false,
     "start_time": "2024-01-16T15:16:56.570698",
     "status": "completed"
    },
    "tags": []
   },
   "outputs": [
    {
     "name": "stdout",
     "output_type": "stream",
     "text": [
      "              precision    recall  f1-score   support\n",
      "\n",
      "         0.0       0.81      0.88      0.84       105\n",
      "         1.0       0.80      0.70      0.75        74\n",
      "\n",
      "    accuracy                           0.80       179\n",
      "   macro avg       0.80      0.79      0.79       179\n",
      "weighted avg       0.80      0.80      0.80       179\n",
      "\n"
     ]
    }
   ],
   "source": [
    "print(classification_report(y_test,predictions))"
   ]
  },
  {
   "cell_type": "markdown",
   "id": "3754e956",
   "metadata": {
    "papermill": {
     "duration": 0.039023,
     "end_time": "2024-01-16T15:16:56.714332",
     "exception": false,
     "start_time": "2024-01-16T15:16:56.675309",
     "status": "completed"
    },
    "tags": []
   },
   "source": [
    "# DecisionTreeClassifier"
   ]
  },
  {
   "cell_type": "code",
   "execution_count": 42,
   "id": "ef80ee7e",
   "metadata": {
    "execution": {
     "iopub.execute_input": "2024-01-16T15:16:56.798887Z",
     "iopub.status.busy": "2024-01-16T15:16:56.798434Z",
     "iopub.status.idle": "2024-01-16T15:16:56.813370Z",
     "shell.execute_reply": "2024-01-16T15:16:56.812080Z"
    },
    "papermill": {
     "duration": 0.060768,
     "end_time": "2024-01-16T15:16:56.815966",
     "exception": false,
     "start_time": "2024-01-16T15:16:56.755198",
     "status": "completed"
    },
    "tags": []
   },
   "outputs": [
    {
     "data": {
      "text/html": [
       "<style>#sk-container-id-3 {color: black;background-color: white;}#sk-container-id-3 pre{padding: 0;}#sk-container-id-3 div.sk-toggleable {background-color: white;}#sk-container-id-3 label.sk-toggleable__label {cursor: pointer;display: block;width: 100%;margin-bottom: 0;padding: 0.3em;box-sizing: border-box;text-align: center;}#sk-container-id-3 label.sk-toggleable__label-arrow:before {content: \"▸\";float: left;margin-right: 0.25em;color: #696969;}#sk-container-id-3 label.sk-toggleable__label-arrow:hover:before {color: black;}#sk-container-id-3 div.sk-estimator:hover label.sk-toggleable__label-arrow:before {color: black;}#sk-container-id-3 div.sk-toggleable__content {max-height: 0;max-width: 0;overflow: hidden;text-align: left;background-color: #f0f8ff;}#sk-container-id-3 div.sk-toggleable__content pre {margin: 0.2em;color: black;border-radius: 0.25em;background-color: #f0f8ff;}#sk-container-id-3 input.sk-toggleable__control:checked~div.sk-toggleable__content {max-height: 200px;max-width: 100%;overflow: auto;}#sk-container-id-3 input.sk-toggleable__control:checked~label.sk-toggleable__label-arrow:before {content: \"▾\";}#sk-container-id-3 div.sk-estimator input.sk-toggleable__control:checked~label.sk-toggleable__label {background-color: #d4ebff;}#sk-container-id-3 div.sk-label input.sk-toggleable__control:checked~label.sk-toggleable__label {background-color: #d4ebff;}#sk-container-id-3 input.sk-hidden--visually {border: 0;clip: rect(1px 1px 1px 1px);clip: rect(1px, 1px, 1px, 1px);height: 1px;margin: -1px;overflow: hidden;padding: 0;position: absolute;width: 1px;}#sk-container-id-3 div.sk-estimator {font-family: monospace;background-color: #f0f8ff;border: 1px dotted black;border-radius: 0.25em;box-sizing: border-box;margin-bottom: 0.5em;}#sk-container-id-3 div.sk-estimator:hover {background-color: #d4ebff;}#sk-container-id-3 div.sk-parallel-item::after {content: \"\";width: 100%;border-bottom: 1px solid gray;flex-grow: 1;}#sk-container-id-3 div.sk-label:hover label.sk-toggleable__label {background-color: #d4ebff;}#sk-container-id-3 div.sk-serial::before {content: \"\";position: absolute;border-left: 1px solid gray;box-sizing: border-box;top: 0;bottom: 0;left: 50%;z-index: 0;}#sk-container-id-3 div.sk-serial {display: flex;flex-direction: column;align-items: center;background-color: white;padding-right: 0.2em;padding-left: 0.2em;position: relative;}#sk-container-id-3 div.sk-item {position: relative;z-index: 1;}#sk-container-id-3 div.sk-parallel {display: flex;align-items: stretch;justify-content: center;background-color: white;position: relative;}#sk-container-id-3 div.sk-item::before, #sk-container-id-3 div.sk-parallel-item::before {content: \"\";position: absolute;border-left: 1px solid gray;box-sizing: border-box;top: 0;bottom: 0;left: 50%;z-index: -1;}#sk-container-id-3 div.sk-parallel-item {display: flex;flex-direction: column;z-index: 1;position: relative;background-color: white;}#sk-container-id-3 div.sk-parallel-item:first-child::after {align-self: flex-end;width: 50%;}#sk-container-id-3 div.sk-parallel-item:last-child::after {align-self: flex-start;width: 50%;}#sk-container-id-3 div.sk-parallel-item:only-child::after {width: 0;}#sk-container-id-3 div.sk-dashed-wrapped {border: 1px dashed gray;margin: 0 0.4em 0.5em 0.4em;box-sizing: border-box;padding-bottom: 0.4em;background-color: white;}#sk-container-id-3 div.sk-label label {font-family: monospace;font-weight: bold;display: inline-block;line-height: 1.2em;}#sk-container-id-3 div.sk-label-container {text-align: center;}#sk-container-id-3 div.sk-container {/* jupyter's `normalize.less` sets `[hidden] { display: none; }` but bootstrap.min.css set `[hidden] { display: none !important; }` so we also need the `!important` here to be able to override the default hidden behavior on the sphinx rendered scikit-learn.org. See: https://github.com/scikit-learn/scikit-learn/issues/21755 */display: inline-block !important;position: relative;}#sk-container-id-3 div.sk-text-repr-fallback {display: none;}</style><div id=\"sk-container-id-3\" class=\"sk-top-container\"><div class=\"sk-text-repr-fallback\"><pre>DecisionTreeClassifier()</pre><b>In a Jupyter environment, please rerun this cell to show the HTML representation or trust the notebook. <br />On GitHub, the HTML representation is unable to render, please try loading this page with nbviewer.org.</b></div><div class=\"sk-container\" hidden><div class=\"sk-item\"><div class=\"sk-estimator sk-toggleable\"><input class=\"sk-toggleable__control sk-hidden--visually\" id=\"sk-estimator-id-3\" type=\"checkbox\" checked><label for=\"sk-estimator-id-3\" class=\"sk-toggleable__label sk-toggleable__label-arrow\">DecisionTreeClassifier</label><div class=\"sk-toggleable__content\"><pre>DecisionTreeClassifier()</pre></div></div></div></div></div>"
      ],
      "text/plain": [
       "DecisionTreeClassifier()"
      ]
     },
     "execution_count": 42,
     "metadata": {},
     "output_type": "execute_result"
    }
   ],
   "source": [
    "\n",
    "from sklearn.tree import DecisionTreeClassifier\n",
    "model = DecisionTreeClassifier()\n",
    "model.fit(X_train, y_train)\n",
    "##model.score(X,y)"
   ]
  },
  {
   "cell_type": "code",
   "execution_count": 43,
   "id": "859a51d9",
   "metadata": {
    "execution": {
     "iopub.execute_input": "2024-01-16T15:16:56.895929Z",
     "iopub.status.busy": "2024-01-16T15:16:56.895490Z",
     "iopub.status.idle": "2024-01-16T15:16:56.906381Z",
     "shell.execute_reply": "2024-01-16T15:16:56.904339Z"
    },
    "papermill": {
     "duration": 0.054869,
     "end_time": "2024-01-16T15:16:56.910380",
     "exception": false,
     "start_time": "2024-01-16T15:16:56.855511",
     "status": "completed"
    },
    "tags": []
   },
   "outputs": [
    {
     "name": "stdout",
     "output_type": "stream",
     "text": [
      "Accuracy:  0.7039106145251397\n"
     ]
    }
   ],
   "source": [
    "predictions = model.predict(X_test)\n",
    "# Évaluer le modèle\n",
    "print(\"Accuracy: \", accuracy_score(y_test, predictions))"
   ]
  },
  {
   "cell_type": "code",
   "execution_count": 44,
   "id": "cca230b6",
   "metadata": {
    "execution": {
     "iopub.execute_input": "2024-01-16T15:16:56.989253Z",
     "iopub.status.busy": "2024-01-16T15:16:56.988542Z",
     "iopub.status.idle": "2024-01-16T15:16:56.996380Z",
     "shell.execute_reply": "2024-01-16T15:16:56.994885Z"
    },
    "papermill": {
     "duration": 0.050129,
     "end_time": "2024-01-16T15:16:56.998862",
     "exception": false,
     "start_time": "2024-01-16T15:16:56.948733",
     "status": "completed"
    },
    "tags": []
   },
   "outputs": [
    {
     "name": "stdout",
     "output_type": "stream",
     "text": [
      "[[78 27]\n",
      " [26 48]]\n"
     ]
    }
   ],
   "source": [
    "print(confusion_matrix(y_test,predictions))"
   ]
  },
  {
   "cell_type": "code",
   "execution_count": 45,
   "id": "a6cc477d",
   "metadata": {
    "execution": {
     "iopub.execute_input": "2024-01-16T15:16:57.077366Z",
     "iopub.status.busy": "2024-01-16T15:16:57.076928Z",
     "iopub.status.idle": "2024-01-16T15:16:57.093843Z",
     "shell.execute_reply": "2024-01-16T15:16:57.092490Z"
    },
    "papermill": {
     "duration": 0.059079,
     "end_time": "2024-01-16T15:16:57.096513",
     "exception": false,
     "start_time": "2024-01-16T15:16:57.037434",
     "status": "completed"
    },
    "tags": []
   },
   "outputs": [
    {
     "name": "stdout",
     "output_type": "stream",
     "text": [
      "              precision    recall  f1-score   support\n",
      "\n",
      "         0.0       0.75      0.74      0.75       105\n",
      "         1.0       0.64      0.65      0.64        74\n",
      "\n",
      "    accuracy                           0.70       179\n",
      "   macro avg       0.70      0.70      0.70       179\n",
      "weighted avg       0.70      0.70      0.70       179\n",
      "\n"
     ]
    }
   ],
   "source": [
    "print(classification_report(y_test,predictions))"
   ]
  },
  {
   "cell_type": "markdown",
   "id": "e1f9c2b6",
   "metadata": {
    "papermill": {
     "duration": 0.038251,
     "end_time": "2024-01-16T15:16:57.173699",
     "exception": false,
     "start_time": "2024-01-16T15:16:57.135448",
     "status": "completed"
    },
    "tags": []
   },
   "source": [
    "# SVC"
   ]
  },
  {
   "cell_type": "code",
   "execution_count": 46,
   "id": "6328d867",
   "metadata": {
    "execution": {
     "iopub.execute_input": "2024-01-16T15:16:57.253759Z",
     "iopub.status.busy": "2024-01-16T15:16:57.252566Z",
     "iopub.status.idle": "2024-01-16T15:16:57.285787Z",
     "shell.execute_reply": "2024-01-16T15:16:57.284637Z"
    },
    "papermill": {
     "duration": 0.075783,
     "end_time": "2024-01-16T15:16:57.288292",
     "exception": false,
     "start_time": "2024-01-16T15:16:57.212509",
     "status": "completed"
    },
    "tags": []
   },
   "outputs": [
    {
     "data": {
      "text/html": [
       "<style>#sk-container-id-4 {color: black;background-color: white;}#sk-container-id-4 pre{padding: 0;}#sk-container-id-4 div.sk-toggleable {background-color: white;}#sk-container-id-4 label.sk-toggleable__label {cursor: pointer;display: block;width: 100%;margin-bottom: 0;padding: 0.3em;box-sizing: border-box;text-align: center;}#sk-container-id-4 label.sk-toggleable__label-arrow:before {content: \"▸\";float: left;margin-right: 0.25em;color: #696969;}#sk-container-id-4 label.sk-toggleable__label-arrow:hover:before {color: black;}#sk-container-id-4 div.sk-estimator:hover label.sk-toggleable__label-arrow:before {color: black;}#sk-container-id-4 div.sk-toggleable__content {max-height: 0;max-width: 0;overflow: hidden;text-align: left;background-color: #f0f8ff;}#sk-container-id-4 div.sk-toggleable__content pre {margin: 0.2em;color: black;border-radius: 0.25em;background-color: #f0f8ff;}#sk-container-id-4 input.sk-toggleable__control:checked~div.sk-toggleable__content {max-height: 200px;max-width: 100%;overflow: auto;}#sk-container-id-4 input.sk-toggleable__control:checked~label.sk-toggleable__label-arrow:before {content: \"▾\";}#sk-container-id-4 div.sk-estimator input.sk-toggleable__control:checked~label.sk-toggleable__label {background-color: #d4ebff;}#sk-container-id-4 div.sk-label input.sk-toggleable__control:checked~label.sk-toggleable__label {background-color: #d4ebff;}#sk-container-id-4 input.sk-hidden--visually {border: 0;clip: rect(1px 1px 1px 1px);clip: rect(1px, 1px, 1px, 1px);height: 1px;margin: -1px;overflow: hidden;padding: 0;position: absolute;width: 1px;}#sk-container-id-4 div.sk-estimator {font-family: monospace;background-color: #f0f8ff;border: 1px dotted black;border-radius: 0.25em;box-sizing: border-box;margin-bottom: 0.5em;}#sk-container-id-4 div.sk-estimator:hover {background-color: #d4ebff;}#sk-container-id-4 div.sk-parallel-item::after {content: \"\";width: 100%;border-bottom: 1px solid gray;flex-grow: 1;}#sk-container-id-4 div.sk-label:hover label.sk-toggleable__label {background-color: #d4ebff;}#sk-container-id-4 div.sk-serial::before {content: \"\";position: absolute;border-left: 1px solid gray;box-sizing: border-box;top: 0;bottom: 0;left: 50%;z-index: 0;}#sk-container-id-4 div.sk-serial {display: flex;flex-direction: column;align-items: center;background-color: white;padding-right: 0.2em;padding-left: 0.2em;position: relative;}#sk-container-id-4 div.sk-item {position: relative;z-index: 1;}#sk-container-id-4 div.sk-parallel {display: flex;align-items: stretch;justify-content: center;background-color: white;position: relative;}#sk-container-id-4 div.sk-item::before, #sk-container-id-4 div.sk-parallel-item::before {content: \"\";position: absolute;border-left: 1px solid gray;box-sizing: border-box;top: 0;bottom: 0;left: 50%;z-index: -1;}#sk-container-id-4 div.sk-parallel-item {display: flex;flex-direction: column;z-index: 1;position: relative;background-color: white;}#sk-container-id-4 div.sk-parallel-item:first-child::after {align-self: flex-end;width: 50%;}#sk-container-id-4 div.sk-parallel-item:last-child::after {align-self: flex-start;width: 50%;}#sk-container-id-4 div.sk-parallel-item:only-child::after {width: 0;}#sk-container-id-4 div.sk-dashed-wrapped {border: 1px dashed gray;margin: 0 0.4em 0.5em 0.4em;box-sizing: border-box;padding-bottom: 0.4em;background-color: white;}#sk-container-id-4 div.sk-label label {font-family: monospace;font-weight: bold;display: inline-block;line-height: 1.2em;}#sk-container-id-4 div.sk-label-container {text-align: center;}#sk-container-id-4 div.sk-container {/* jupyter's `normalize.less` sets `[hidden] { display: none; }` but bootstrap.min.css set `[hidden] { display: none !important; }` so we also need the `!important` here to be able to override the default hidden behavior on the sphinx rendered scikit-learn.org. See: https://github.com/scikit-learn/scikit-learn/issues/21755 */display: inline-block !important;position: relative;}#sk-container-id-4 div.sk-text-repr-fallback {display: none;}</style><div id=\"sk-container-id-4\" class=\"sk-top-container\"><div class=\"sk-text-repr-fallback\"><pre>SVC()</pre><b>In a Jupyter environment, please rerun this cell to show the HTML representation or trust the notebook. <br />On GitHub, the HTML representation is unable to render, please try loading this page with nbviewer.org.</b></div><div class=\"sk-container\" hidden><div class=\"sk-item\"><div class=\"sk-estimator sk-toggleable\"><input class=\"sk-toggleable__control sk-hidden--visually\" id=\"sk-estimator-id-4\" type=\"checkbox\" checked><label for=\"sk-estimator-id-4\" class=\"sk-toggleable__label sk-toggleable__label-arrow\">SVC</label><div class=\"sk-toggleable__content\"><pre>SVC()</pre></div></div></div></div></div>"
      ],
      "text/plain": [
       "SVC()"
      ]
     },
     "execution_count": 46,
     "metadata": {},
     "output_type": "execute_result"
    }
   ],
   "source": [
    "from sklearn.svm import SVC\n",
    "model = SVC()\n",
    "model.fit(X_train, y_train)\n",
    "\n",
    "##model.score(X,y)\n"
   ]
  },
  {
   "cell_type": "code",
   "execution_count": 47,
   "id": "93cabe0f",
   "metadata": {
    "execution": {
     "iopub.execute_input": "2024-01-16T15:16:57.369276Z",
     "iopub.status.busy": "2024-01-16T15:16:57.367999Z",
     "iopub.status.idle": "2024-01-16T15:16:57.383804Z",
     "shell.execute_reply": "2024-01-16T15:16:57.382487Z"
    },
    "papermill": {
     "duration": 0.059027,
     "end_time": "2024-01-16T15:16:57.386594",
     "exception": false,
     "start_time": "2024-01-16T15:16:57.327567",
     "status": "completed"
    },
    "tags": []
   },
   "outputs": [
    {
     "name": "stdout",
     "output_type": "stream",
     "text": [
      "Accuracy:  0.5977653631284916\n"
     ]
    }
   ],
   "source": [
    "predictions = model.predict(X_test)\n",
    "# Évaluer le modèle\n",
    "print(\"Accuracy: \", accuracy_score(y_test, predictions))"
   ]
  },
  {
   "cell_type": "code",
   "execution_count": 48,
   "id": "498288ce",
   "metadata": {
    "execution": {
     "iopub.execute_input": "2024-01-16T15:16:57.467843Z",
     "iopub.status.busy": "2024-01-16T15:16:57.467408Z",
     "iopub.status.idle": "2024-01-16T15:16:57.475899Z",
     "shell.execute_reply": "2024-01-16T15:16:57.474812Z"
    },
    "papermill": {
     "duration": 0.052451,
     "end_time": "2024-01-16T15:16:57.478699",
     "exception": false,
     "start_time": "2024-01-16T15:16:57.426248",
     "status": "completed"
    },
    "tags": []
   },
   "outputs": [
    {
     "name": "stdout",
     "output_type": "stream",
     "text": [
      "[[103   2]\n",
      " [ 70   4]]\n"
     ]
    }
   ],
   "source": [
    "print(confusion_matrix(y_test,predictions))"
   ]
  },
  {
   "cell_type": "code",
   "execution_count": 49,
   "id": "33cf13a7",
   "metadata": {
    "execution": {
     "iopub.execute_input": "2024-01-16T15:16:57.560088Z",
     "iopub.status.busy": "2024-01-16T15:16:57.559628Z",
     "iopub.status.idle": "2024-01-16T15:16:57.575755Z",
     "shell.execute_reply": "2024-01-16T15:16:57.574214Z"
    },
    "papermill": {
     "duration": 0.059733,
     "end_time": "2024-01-16T15:16:57.578474",
     "exception": false,
     "start_time": "2024-01-16T15:16:57.518741",
     "status": "completed"
    },
    "tags": []
   },
   "outputs": [
    {
     "name": "stdout",
     "output_type": "stream",
     "text": [
      "              precision    recall  f1-score   support\n",
      "\n",
      "         0.0       0.60      0.98      0.74       105\n",
      "         1.0       0.67      0.05      0.10        74\n",
      "\n",
      "    accuracy                           0.60       179\n",
      "   macro avg       0.63      0.52      0.42       179\n",
      "weighted avg       0.62      0.60      0.48       179\n",
      "\n"
     ]
    }
   ],
   "source": [
    "print(classification_report(y_test,predictions))"
   ]
  },
  {
   "cell_type": "code",
   "execution_count": 50,
   "id": "26b4f69f",
   "metadata": {
    "execution": {
     "iopub.execute_input": "2024-01-16T15:16:57.660692Z",
     "iopub.status.busy": "2024-01-16T15:16:57.660242Z",
     "iopub.status.idle": "2024-01-16T15:16:57.671896Z",
     "shell.execute_reply": "2024-01-16T15:16:57.670689Z"
    },
    "papermill": {
     "duration": 0.056335,
     "end_time": "2024-01-16T15:16:57.674649",
     "exception": false,
     "start_time": "2024-01-16T15:16:57.618314",
     "status": "completed"
    },
    "tags": []
   },
   "outputs": [
    {
     "data": {
      "text/html": [
       "<div>\n",
       "<style scoped>\n",
       "    .dataframe tbody tr th:only-of-type {\n",
       "        vertical-align: middle;\n",
       "    }\n",
       "\n",
       "    .dataframe tbody tr th {\n",
       "        vertical-align: top;\n",
       "    }\n",
       "\n",
       "    .dataframe thead th {\n",
       "        text-align: right;\n",
       "    }\n",
       "</style>\n",
       "<table border=\"1\" class=\"dataframe\">\n",
       "  <thead>\n",
       "    <tr style=\"text-align: right;\">\n",
       "      <th></th>\n",
       "      <th>PassengerId</th>\n",
       "      <th>Survived</th>\n",
       "    </tr>\n",
       "  </thead>\n",
       "  <tbody>\n",
       "    <tr>\n",
       "      <th>0</th>\n",
       "      <td>892</td>\n",
       "      <td>0</td>\n",
       "    </tr>\n",
       "    <tr>\n",
       "      <th>1</th>\n",
       "      <td>893</td>\n",
       "      <td>1</td>\n",
       "    </tr>\n",
       "    <tr>\n",
       "      <th>2</th>\n",
       "      <td>894</td>\n",
       "      <td>0</td>\n",
       "    </tr>\n",
       "    <tr>\n",
       "      <th>3</th>\n",
       "      <td>895</td>\n",
       "      <td>0</td>\n",
       "    </tr>\n",
       "    <tr>\n",
       "      <th>4</th>\n",
       "      <td>896</td>\n",
       "      <td>1</td>\n",
       "    </tr>\n",
       "  </tbody>\n",
       "</table>\n",
       "</div>"
      ],
      "text/plain": [
       "   PassengerId  Survived\n",
       "0          892         0\n",
       "1          893         1\n",
       "2          894         0\n",
       "3          895         0\n",
       "4          896         1"
      ]
     },
     "execution_count": 50,
     "metadata": {},
     "output_type": "execute_result"
    }
   ],
   "source": [
    "df_gender.head()"
   ]
  },
  {
   "cell_type": "code",
   "execution_count": 51,
   "id": "8ecf55c8",
   "metadata": {
    "execution": {
     "iopub.execute_input": "2024-01-16T15:16:57.757098Z",
     "iopub.status.busy": "2024-01-16T15:16:57.756632Z",
     "iopub.status.idle": "2024-01-16T15:16:57.761617Z",
     "shell.execute_reply": "2024-01-16T15:16:57.760480Z"
    },
    "papermill": {
     "duration": 0.048528,
     "end_time": "2024-01-16T15:16:57.763993",
     "exception": false,
     "start_time": "2024-01-16T15:16:57.715465",
     "status": "completed"
    },
    "tags": []
   },
   "outputs": [],
   "source": [
    "# Charger les données de test\n",
    "#X_test = df_test\n",
    "\n",
    "# Prédire les résultats du test\n",
    "#predictions = model.predict(X_test)\n",
    "\n",
    "#import pandas as pd\n",
    "\n",
    "#sample_submission = pd.DataFrame({\n",
    "    #'PassengerId': df_test.PassengerId, \n",
    "    #'Survived': predictions\n",
    "#})\n",
    "\n",
    "#sample_submission.to_csv(\"submission.csv\", index=False)\n"
   ]
  },
  {
   "cell_type": "code",
   "execution_count": 52,
   "id": "d3d84255",
   "metadata": {
    "execution": {
     "iopub.execute_input": "2024-01-16T15:16:57.846406Z",
     "iopub.status.busy": "2024-01-16T15:16:57.845982Z",
     "iopub.status.idle": "2024-01-16T15:16:58.150292Z",
     "shell.execute_reply": "2024-01-16T15:16:58.149092Z"
    },
    "papermill": {
     "duration": 0.349173,
     "end_time": "2024-01-16T15:16:58.152872",
     "exception": false,
     "start_time": "2024-01-16T15:16:57.803699",
     "status": "completed"
    },
    "tags": []
   },
   "outputs": [
    {
     "data": {
      "text/html": [
       "<style>#sk-container-id-5 {color: black;background-color: white;}#sk-container-id-5 pre{padding: 0;}#sk-container-id-5 div.sk-toggleable {background-color: white;}#sk-container-id-5 label.sk-toggleable__label {cursor: pointer;display: block;width: 100%;margin-bottom: 0;padding: 0.3em;box-sizing: border-box;text-align: center;}#sk-container-id-5 label.sk-toggleable__label-arrow:before {content: \"▸\";float: left;margin-right: 0.25em;color: #696969;}#sk-container-id-5 label.sk-toggleable__label-arrow:hover:before {color: black;}#sk-container-id-5 div.sk-estimator:hover label.sk-toggleable__label-arrow:before {color: black;}#sk-container-id-5 div.sk-toggleable__content {max-height: 0;max-width: 0;overflow: hidden;text-align: left;background-color: #f0f8ff;}#sk-container-id-5 div.sk-toggleable__content pre {margin: 0.2em;color: black;border-radius: 0.25em;background-color: #f0f8ff;}#sk-container-id-5 input.sk-toggleable__control:checked~div.sk-toggleable__content {max-height: 200px;max-width: 100%;overflow: auto;}#sk-container-id-5 input.sk-toggleable__control:checked~label.sk-toggleable__label-arrow:before {content: \"▾\";}#sk-container-id-5 div.sk-estimator input.sk-toggleable__control:checked~label.sk-toggleable__label {background-color: #d4ebff;}#sk-container-id-5 div.sk-label input.sk-toggleable__control:checked~label.sk-toggleable__label {background-color: #d4ebff;}#sk-container-id-5 input.sk-hidden--visually {border: 0;clip: rect(1px 1px 1px 1px);clip: rect(1px, 1px, 1px, 1px);height: 1px;margin: -1px;overflow: hidden;padding: 0;position: absolute;width: 1px;}#sk-container-id-5 div.sk-estimator {font-family: monospace;background-color: #f0f8ff;border: 1px dotted black;border-radius: 0.25em;box-sizing: border-box;margin-bottom: 0.5em;}#sk-container-id-5 div.sk-estimator:hover {background-color: #d4ebff;}#sk-container-id-5 div.sk-parallel-item::after {content: \"\";width: 100%;border-bottom: 1px solid gray;flex-grow: 1;}#sk-container-id-5 div.sk-label:hover label.sk-toggleable__label {background-color: #d4ebff;}#sk-container-id-5 div.sk-serial::before {content: \"\";position: absolute;border-left: 1px solid gray;box-sizing: border-box;top: 0;bottom: 0;left: 50%;z-index: 0;}#sk-container-id-5 div.sk-serial {display: flex;flex-direction: column;align-items: center;background-color: white;padding-right: 0.2em;padding-left: 0.2em;position: relative;}#sk-container-id-5 div.sk-item {position: relative;z-index: 1;}#sk-container-id-5 div.sk-parallel {display: flex;align-items: stretch;justify-content: center;background-color: white;position: relative;}#sk-container-id-5 div.sk-item::before, #sk-container-id-5 div.sk-parallel-item::before {content: \"\";position: absolute;border-left: 1px solid gray;box-sizing: border-box;top: 0;bottom: 0;left: 50%;z-index: -1;}#sk-container-id-5 div.sk-parallel-item {display: flex;flex-direction: column;z-index: 1;position: relative;background-color: white;}#sk-container-id-5 div.sk-parallel-item:first-child::after {align-self: flex-end;width: 50%;}#sk-container-id-5 div.sk-parallel-item:last-child::after {align-self: flex-start;width: 50%;}#sk-container-id-5 div.sk-parallel-item:only-child::after {width: 0;}#sk-container-id-5 div.sk-dashed-wrapped {border: 1px dashed gray;margin: 0 0.4em 0.5em 0.4em;box-sizing: border-box;padding-bottom: 0.4em;background-color: white;}#sk-container-id-5 div.sk-label label {font-family: monospace;font-weight: bold;display: inline-block;line-height: 1.2em;}#sk-container-id-5 div.sk-label-container {text-align: center;}#sk-container-id-5 div.sk-container {/* jupyter's `normalize.less` sets `[hidden] { display: none; }` but bootstrap.min.css set `[hidden] { display: none !important; }` so we also need the `!important` here to be able to override the default hidden behavior on the sphinx rendered scikit-learn.org. See: https://github.com/scikit-learn/scikit-learn/issues/21755 */display: inline-block !important;position: relative;}#sk-container-id-5 div.sk-text-repr-fallback {display: none;}</style><div id=\"sk-container-id-5\" class=\"sk-top-container\"><div class=\"sk-text-repr-fallback\"><pre>RandomForestClassifier()</pre><b>In a Jupyter environment, please rerun this cell to show the HTML representation or trust the notebook. <br />On GitHub, the HTML representation is unable to render, please try loading this page with nbviewer.org.</b></div><div class=\"sk-container\" hidden><div class=\"sk-item\"><div class=\"sk-estimator sk-toggleable\"><input class=\"sk-toggleable__control sk-hidden--visually\" id=\"sk-estimator-id-5\" type=\"checkbox\" checked><label for=\"sk-estimator-id-5\" class=\"sk-toggleable__label sk-toggleable__label-arrow\">RandomForestClassifier</label><div class=\"sk-toggleable__content\"><pre>RandomForestClassifier()</pre></div></div></div></div></div>"
      ],
      "text/plain": [
       "RandomForestClassifier()"
      ]
     },
     "execution_count": 52,
     "metadata": {},
     "output_type": "execute_result"
    }
   ],
   "source": [
    "model = RandomForestClassifier()\n",
    "#model.fit(df_train.drop(['Survived'],axis=1),df_train['Survived'])\n",
    "model.fit(df_train.drop(['Survived'],axis=1),df_train['Survived'])"
   ]
  },
  {
   "cell_type": "code",
   "execution_count": 53,
   "id": "6c722b0b",
   "metadata": {
    "execution": {
     "iopub.execute_input": "2024-01-16T15:16:58.235779Z",
     "iopub.status.busy": "2024-01-16T15:16:58.235342Z",
     "iopub.status.idle": "2024-01-16T15:16:58.261298Z",
     "shell.execute_reply": "2024-01-16T15:16:58.259881Z"
    },
    "papermill": {
     "duration": 0.070526,
     "end_time": "2024-01-16T15:16:58.263988",
     "exception": false,
     "start_time": "2024-01-16T15:16:58.193462",
     "status": "completed"
    },
    "tags": []
   },
   "outputs": [],
   "source": [
    "test_prediction = model.predict(df_test)\n",
    "test_prediction = [ 1 if y>=0.5 else 0 for y in test_prediction]"
   ]
  },
  {
   "cell_type": "code",
   "execution_count": 54,
   "id": "4a93046d",
   "metadata": {
    "execution": {
     "iopub.execute_input": "2024-01-16T15:16:58.346338Z",
     "iopub.status.busy": "2024-01-16T15:16:58.345909Z",
     "iopub.status.idle": "2024-01-16T15:16:58.351675Z",
     "shell.execute_reply": "2024-01-16T15:16:58.350468Z"
    },
    "papermill": {
     "duration": 0.050587,
     "end_time": "2024-01-16T15:16:58.354300",
     "exception": false,
     "start_time": "2024-01-16T15:16:58.303713",
     "status": "completed"
    },
    "tags": []
   },
   "outputs": [],
   "source": [
    "test_pred = pd.DataFrame(test_prediction, columns= ['Survived'])"
   ]
  },
  {
   "cell_type": "code",
   "execution_count": 55,
   "id": "272933a6",
   "metadata": {
    "execution": {
     "iopub.execute_input": "2024-01-16T15:16:58.438365Z",
     "iopub.status.busy": "2024-01-16T15:16:58.437922Z",
     "iopub.status.idle": "2024-01-16T15:16:58.443582Z",
     "shell.execute_reply": "2024-01-16T15:16:58.442504Z"
    },
    "papermill": {
     "duration": 0.050779,
     "end_time": "2024-01-16T15:16:58.445828",
     "exception": false,
     "start_time": "2024-01-16T15:16:58.395049",
     "status": "completed"
    },
    "tags": []
   },
   "outputs": [],
   "source": [
    "new_test = pd.concat([df_test, test_pred], axis=1, join='inner')"
   ]
  },
  {
   "cell_type": "code",
   "execution_count": 56,
   "id": "13eccd97",
   "metadata": {
    "execution": {
     "iopub.execute_input": "2024-01-16T15:16:58.529545Z",
     "iopub.status.busy": "2024-01-16T15:16:58.529128Z",
     "iopub.status.idle": "2024-01-16T15:16:58.544917Z",
     "shell.execute_reply": "2024-01-16T15:16:58.543706Z"
    },
    "papermill": {
     "duration": 0.0608,
     "end_time": "2024-01-16T15:16:58.547758",
     "exception": false,
     "start_time": "2024-01-16T15:16:58.486958",
     "status": "completed"
    },
    "tags": []
   },
   "outputs": [
    {
     "data": {
      "text/html": [
       "<div>\n",
       "<style scoped>\n",
       "    .dataframe tbody tr th:only-of-type {\n",
       "        vertical-align: middle;\n",
       "    }\n",
       "\n",
       "    .dataframe tbody tr th {\n",
       "        vertical-align: top;\n",
       "    }\n",
       "\n",
       "    .dataframe thead th {\n",
       "        text-align: right;\n",
       "    }\n",
       "</style>\n",
       "<table border=\"1\" class=\"dataframe\">\n",
       "  <thead>\n",
       "    <tr style=\"text-align: right;\">\n",
       "      <th></th>\n",
       "      <th>PassengerId</th>\n",
       "      <th>Pclass</th>\n",
       "      <th>Sex</th>\n",
       "      <th>Age</th>\n",
       "      <th>SibSp</th>\n",
       "      <th>Parch</th>\n",
       "      <th>Fare</th>\n",
       "      <th>Embarked</th>\n",
       "      <th>Survived</th>\n",
       "    </tr>\n",
       "  </thead>\n",
       "  <tbody>\n",
       "    <tr>\n",
       "      <th>0</th>\n",
       "      <td>892</td>\n",
       "      <td>3</td>\n",
       "      <td>1</td>\n",
       "      <td>34.5</td>\n",
       "      <td>0</td>\n",
       "      <td>0</td>\n",
       "      <td>34.5</td>\n",
       "      <td>1</td>\n",
       "      <td>0</td>\n",
       "    </tr>\n",
       "    <tr>\n",
       "      <th>1</th>\n",
       "      <td>893</td>\n",
       "      <td>3</td>\n",
       "      <td>0</td>\n",
       "      <td>47.0</td>\n",
       "      <td>1</td>\n",
       "      <td>0</td>\n",
       "      <td>47.0</td>\n",
       "      <td>2</td>\n",
       "      <td>0</td>\n",
       "    </tr>\n",
       "    <tr>\n",
       "      <th>2</th>\n",
       "      <td>894</td>\n",
       "      <td>2</td>\n",
       "      <td>1</td>\n",
       "      <td>62.0</td>\n",
       "      <td>0</td>\n",
       "      <td>0</td>\n",
       "      <td>62.0</td>\n",
       "      <td>1</td>\n",
       "      <td>0</td>\n",
       "    </tr>\n",
       "    <tr>\n",
       "      <th>3</th>\n",
       "      <td>895</td>\n",
       "      <td>3</td>\n",
       "      <td>1</td>\n",
       "      <td>27.0</td>\n",
       "      <td>0</td>\n",
       "      <td>0</td>\n",
       "      <td>27.0</td>\n",
       "      <td>2</td>\n",
       "      <td>0</td>\n",
       "    </tr>\n",
       "    <tr>\n",
       "      <th>4</th>\n",
       "      <td>896</td>\n",
       "      <td>3</td>\n",
       "      <td>0</td>\n",
       "      <td>22.0</td>\n",
       "      <td>1</td>\n",
       "      <td>1</td>\n",
       "      <td>22.0</td>\n",
       "      <td>2</td>\n",
       "      <td>0</td>\n",
       "    </tr>\n",
       "  </tbody>\n",
       "</table>\n",
       "</div>"
      ],
      "text/plain": [
       "   PassengerId  Pclass  Sex   Age  SibSp  Parch  Fare  Embarked  Survived\n",
       "0          892       3    1  34.5      0      0  34.5         1         0\n",
       "1          893       3    0  47.0      1      0  47.0         2         0\n",
       "2          894       2    1  62.0      0      0  62.0         1         0\n",
       "3          895       3    1  27.0      0      0  27.0         2         0\n",
       "4          896       3    0  22.0      1      1  22.0         2         0"
      ]
     },
     "execution_count": 56,
     "metadata": {},
     "output_type": "execute_result"
    }
   ],
   "source": [
    "new_test.head()"
   ]
  },
  {
   "cell_type": "code",
   "execution_count": 57,
   "id": "1353b07f",
   "metadata": {
    "execution": {
     "iopub.execute_input": "2024-01-16T15:16:58.631200Z",
     "iopub.status.busy": "2024-01-16T15:16:58.630669Z",
     "iopub.status.idle": "2024-01-16T15:16:58.637953Z",
     "shell.execute_reply": "2024-01-16T15:16:58.636621Z"
    },
    "papermill": {
     "duration": 0.05244,
     "end_time": "2024-01-16T15:16:58.640828",
     "exception": false,
     "start_time": "2024-01-16T15:16:58.588388",
     "status": "completed"
    },
    "tags": []
   },
   "outputs": [],
   "source": [
    "df= new_test[['PassengerId' ,'Survived']]"
   ]
  },
  {
   "cell_type": "code",
   "execution_count": 58,
   "id": "456c744c",
   "metadata": {
    "execution": {
     "iopub.execute_input": "2024-01-16T15:16:58.725904Z",
     "iopub.status.busy": "2024-01-16T15:16:58.725469Z",
     "iopub.status.idle": "2024-01-16T15:16:58.735747Z",
     "shell.execute_reply": "2024-01-16T15:16:58.734456Z"
    },
    "papermill": {
     "duration": 0.055971,
     "end_time": "2024-01-16T15:16:58.738317",
     "exception": false,
     "start_time": "2024-01-16T15:16:58.682346",
     "status": "completed"
    },
    "tags": []
   },
   "outputs": [
    {
     "data": {
      "text/html": [
       "<div>\n",
       "<style scoped>\n",
       "    .dataframe tbody tr th:only-of-type {\n",
       "        vertical-align: middle;\n",
       "    }\n",
       "\n",
       "    .dataframe tbody tr th {\n",
       "        vertical-align: top;\n",
       "    }\n",
       "\n",
       "    .dataframe thead th {\n",
       "        text-align: right;\n",
       "    }\n",
       "</style>\n",
       "<table border=\"1\" class=\"dataframe\">\n",
       "  <thead>\n",
       "    <tr style=\"text-align: right;\">\n",
       "      <th></th>\n",
       "      <th>PassengerId</th>\n",
       "      <th>Survived</th>\n",
       "    </tr>\n",
       "  </thead>\n",
       "  <tbody>\n",
       "    <tr>\n",
       "      <th>0</th>\n",
       "      <td>892</td>\n",
       "      <td>0</td>\n",
       "    </tr>\n",
       "    <tr>\n",
       "      <th>1</th>\n",
       "      <td>893</td>\n",
       "      <td>0</td>\n",
       "    </tr>\n",
       "    <tr>\n",
       "      <th>2</th>\n",
       "      <td>894</td>\n",
       "      <td>0</td>\n",
       "    </tr>\n",
       "    <tr>\n",
       "      <th>3</th>\n",
       "      <td>895</td>\n",
       "      <td>0</td>\n",
       "    </tr>\n",
       "    <tr>\n",
       "      <th>4</th>\n",
       "      <td>896</td>\n",
       "      <td>0</td>\n",
       "    </tr>\n",
       "  </tbody>\n",
       "</table>\n",
       "</div>"
      ],
      "text/plain": [
       "   PassengerId  Survived\n",
       "0          892         0\n",
       "1          893         0\n",
       "2          894         0\n",
       "3          895         0\n",
       "4          896         0"
      ]
     },
     "execution_count": 58,
     "metadata": {},
     "output_type": "execute_result"
    }
   ],
   "source": [
    "df.head()"
   ]
  },
  {
   "cell_type": "code",
   "execution_count": 59,
   "id": "7ab209e9",
   "metadata": {
    "execution": {
     "iopub.execute_input": "2024-01-16T15:16:58.822991Z",
     "iopub.status.busy": "2024-01-16T15:16:58.822553Z",
     "iopub.status.idle": "2024-01-16T15:16:58.831997Z",
     "shell.execute_reply": "2024-01-16T15:16:58.831089Z"
    },
    "papermill": {
     "duration": 0.055039,
     "end_time": "2024-01-16T15:16:58.834576",
     "exception": false,
     "start_time": "2024-01-16T15:16:58.779537",
     "status": "completed"
    },
    "tags": []
   },
   "outputs": [],
   "source": [
    "df.to_csv('predictions.csv' , index=False)"
   ]
  },
  {
   "cell_type": "markdown",
   "id": "8640db0a",
   "metadata": {
    "papermill": {
     "duration": 0.043655,
     "end_time": "2024-01-16T15:16:58.920334",
     "exception": false,
     "start_time": "2024-01-16T15:16:58.876679",
     "status": "completed"
    },
    "tags": []
   },
   "source": []
  },
  {
   "cell_type": "code",
   "execution_count": 60,
   "id": "c1d57f9c",
   "metadata": {
    "execution": {
     "iopub.execute_input": "2024-01-16T15:16:59.004737Z",
     "iopub.status.busy": "2024-01-16T15:16:59.004306Z",
     "iopub.status.idle": "2024-01-16T15:16:59.953277Z",
     "shell.execute_reply": "2024-01-16T15:16:59.951985Z"
    },
    "papermill": {
     "duration": 0.994669,
     "end_time": "2024-01-16T15:16:59.956103",
     "exception": false,
     "start_time": "2024-01-16T15:16:58.961434",
     "status": "completed"
    },
    "tags": []
   },
   "outputs": [
    {
     "data": {
      "image/png": "[encoded data removed]",
      "text/plain": [
       "<Figure size 1000x1000 with 1 Axes>"
      ]
     },
     "metadata": {},
     "output_type": "display_data"
    }
   ],
   "source": [
    "from sklearn.metrics import roc_curve, auc\n",
    "import matplotlib.pyplot as plt\n",
    "from sklearn.linear_model import LogisticRegression\n",
    "from sklearn.svm import SVC\n",
    "from sklearn.ensemble import RandomForestClassifier\n",
    "from sklearn.tree import DecisionTreeClassifier\n",
    "from sklearn.model_selection import train_test_split\n",
    "\n",
    "# Supposons que X_train, y_train, X_test, y_test soient vos ensembles de données\n",
    "\n",
    "# Définir les modèles\n",
    "models = [\n",
    "    ('Logistic Regression', LogisticRegression(max_iter=1000)),\n",
    "    ('SVM', SVC(probability=True)),\n",
    "    ('Random Forest', RandomForestClassifier()),\n",
    "    ('Arbre de decision', DecisionTreeClassifier())\n",
    "]\n",
    "\n",
    "plt.figure(figsize=(10, 10))\n",
    "\n",
    "# Entraîner, prédire et tracer la courbe ROC pour chaque modèle\n",
    "for name, model in models:\n",
    "    model.fit(X_train, y_train)\n",
    "    predictions = model.predict_proba(X_test)[:, 1]\n",
    "    fpr, tpr, _ = roc_curve(y_test, predictions)\n",
    "    roc_auc = auc(fpr, tpr)\n",
    "    plt.plot(fpr, tpr, label=f'{name} (AUC = {roc_auc:.2f})')\n",
    "\n",
    "# Tracer la diagonale\n",
    "plt.plot([0, 1], [0, 1], color='navy', linestyle='--')\n",
    "\n",
    "plt.xlim([0.0, 1.0])\n",
    "plt.ylim([0.0, 1.05])\n",
    "plt.xlabel('False Positive Rate')\n",
    "plt.ylabel('True Positive Rate')\n",
    "plt.title('Receiver Operating Characteristic')\n",
    "plt.legend(loc=\"lower right\")\n",
    "plt.show()\n"
   ]
  },
  {
   "cell_type": "code",
   "execution_count": 61,
   "id": "319f4772",
   "metadata": {
    "execution": {
     "iopub.execute_input": "2024-01-16T15:17:00.044621Z",
     "iopub.status.busy": "2024-01-16T15:17:00.044217Z",
     "iopub.status.idle": "2024-01-16T15:17:00.849618Z",
     "shell.execute_reply": "2024-01-16T15:17:00.848331Z"
    },
    "papermill": {
     "duration": 0.853536,
     "end_time": "2024-01-16T15:17:00.852360",
     "exception": false,
     "start_time": "2024-01-16T15:16:59.998824",
     "status": "completed"
    },
    "tags": []
   },
   "outputs": [
    {
     "data": {
      "image/png": "[encoded data removed]",
      "text/plain": [
       "<Figure size 640x480 with 1 Axes>"
      ]
     },
     "metadata": {},
     "output_type": "display_data"
    }
   ],
   "source": [
    "from sklearn.linear_model import LogisticRegression\n",
    "from sklearn.neighbors import KNeighborsClassifier\n",
    "from sklearn.tree import DecisionTreeClassifier\n",
    "from sklearn.metrics import accuracy_score\n",
    "import matplotlib.pyplot as plt\n",
    "\n",
    "# Définir les modèles\n",
    "models = [\n",
    "    ('Logistic Regression', LogisticRegression(max_iter=1000)),\n",
    "    ('SVM', SVC(probability=True)),\n",
    "    ('Random Forest', RandomForestClassifier()),\n",
    "    ('Arbre de decision', DecisionTreeClassifier())\n",
    "]\n",
    "# Liste pour stocker les précisions des modèles\n",
    "accuracies = []\n",
    "\n",
    "# Entraîner et évaluer chaque modèle\n",
    "for name, model in models:\n",
    "    model.fit(X_train, y_train)\n",
    "    predictions = model.predict(X_test)\n",
    "    accuracy = accuracy_score(y_test, predictions)\n",
    "    accuracies.append(accuracy)\n",
    "\n",
    "# Créer un graphique à barres pour visualiser les précisions\n",
    "plt.bar([model[0] for model in models], accuracies)\n",
    "plt.xlabel('Modèle')\n",
    "plt.ylabel('Précision')\n",
    "plt.title('Précision des différents modèles')\n",
    "plt.show()\n"
   ]
  },
  {
   "cell_type": "code",
   "execution_count": null,
   "id": "0e507d78",
   "metadata": {
    "papermill": {
     "duration": 0.044086,
     "end_time": "2024-01-16T15:17:00.940879",
     "exception": false,
     "start_time": "2024-01-16T15:17:00.896793",
     "status": "completed"
    },
    "tags": []
   },
   "outputs": [],
   "source": []
  }
 ],
 "metadata": {
  "kaggle": {
   "accelerator": "none",
   "dataSources": [
    {
     "databundleVersionId": 26502,
     "sourceId": 3136,
     "sourceType": "competition"
    }
   ],
   "dockerImageVersionId": 30587,
   "isGpuEnabled": false,
   "isInternetEnabled": false,
   "language": "python",
   "sourceType": "notebook"
  },
  "kernelspec": {
   "display_name": "Python 3",
   "language": "python",
   "name": "python3"
  },
  "language_info": {
   "codemirror_mode": {
    "name": "ipython",
    "version": 3
   },
   "file_extension": ".py",
   "mimetype": "text/x-python",
   "name": "python",
   "nbconvert_exporter": "python",
   "pygments_lexer": "ipython3",
   "version": "3.10.12"
  },
  "papermill": {
   "default_parameters": {},
   "duration": 26.882991,
   "end_time": "2024-01-16T15:17:01.907521",
   "environment_variables": {},
   "exception": null,
   "input_path": "__notebook__.ipynb",
   "output_path": "__notebook__.ipynb",
   "parameters": {},
   "start_time": "2024-01-16T15:16:35.024530",
   "version": "2.4.0"
  }
 },
 "nbformat": 4,
 "nbformat_minor": 5
}
